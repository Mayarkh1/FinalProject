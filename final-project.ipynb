{
 "cells": [
  {
   "cell_type": "markdown",
   "id": "e51bb129",
   "metadata": {},
   "source": [
    "## Goal:"
   ]
  },
  {
   "cell_type": "markdown",
   "id": "ebf52762",
   "metadata": {},
   "source": [
    "to identify patterns that determine whether a company successfully gaining best form or not in order to spot potential company to plan investment plan in those companies who work at the best industry at the time."
   ]
  },
  {
   "cell_type": "markdown",
   "id": "b76da93c",
   "metadata": {},
   "source": [
    "## STEP I: ANALYSIS OF GENERAL INFORMATION:"
   ]
  },
  {
   "cell_type": "code",
   "execution_count": 1,
   "id": "ff649468",
   "metadata": {
    "tags": []
   },
   "outputs": [],
   "source": [
    "import pandas as pd\n",
    "import matplotlib as mpl\n",
    "import matplotlib.pyplot as plt \n",
    "import numpy as np\n",
    "import scipy \n",
    "import seaborn as sns\n",
    "from datetime import datetime"
   ]
  },
  {
   "cell_type": "code",
   "execution_count": 2,
   "id": "2608be19",
   "metadata": {
    "tags": []
   },
   "outputs": [],
   "source": [
    "companies = pd.read_csv(\"Unicorn_Companies.csv\")\n"
   ]
  },
  {
   "cell_type": "code",
   "execution_count": 3,
   "id": "040a115c",
   "metadata": {
    "tags": []
   },
   "outputs": [
    {
     "name": "stdout",
     "output_type": "stream",
     "text": [
      "<class 'pandas.core.frame.DataFrame'>\n",
      "RangeIndex: 1074 entries, 0 to 1073\n",
      "Data columns (total 10 columns):\n",
      " #   Column            Non-Null Count  Dtype \n",
      "---  ------            --------------  ----- \n",
      " 0   Company           1074 non-null   object\n",
      " 1   Valuation         1074 non-null   object\n",
      " 2   Date Joined       1074 non-null   object\n",
      " 3   Industry          1074 non-null   object\n",
      " 4   City              1058 non-null   object\n",
      " 5   Country           1074 non-null   object\n",
      " 6   Continent         1074 non-null   object\n",
      " 7   Year Founded      1074 non-null   int64 \n",
      " 8   Funding           1074 non-null   object\n",
      " 9   Select Investors  1073 non-null   object\n",
      "dtypes: int64(1), object(9)\n",
      "memory usage: 84.0+ KB\n"
     ]
    }
   ],
   "source": [
    "companies.info() \n"
   ]
  },
  {
   "cell_type": "code",
   "execution_count": 4,
   "id": "ce1daed5-adca-422f-985a-12d13b7a2859",
   "metadata": {
    "tags": []
   },
   "outputs": [
    {
     "data": {
      "text/plain": [
       "Index(['Company', 'Valuation', 'Date Joined', 'Industry', 'City', 'Country',\n",
       "       'Continent', 'Year Founded', 'Funding', 'Select Investors'],\n",
       "      dtype='object')"
      ]
     },
     "execution_count": 4,
     "metadata": {},
     "output_type": "execute_result"
    }
   ],
   "source": [
    "companies.columns"
   ]
  },
  {
   "cell_type": "code",
   "execution_count": 5,
   "id": "5ccf5d65",
   "metadata": {
    "tags": []
   },
   "outputs": [
    {
     "name": "stdout",
     "output_type": "stream",
     "text": [
      "The NaN statistics\n"
     ]
    },
    {
     "data": {
      "text/plain": [
       "Company             0.000000\n",
       "Valuation           0.000000\n",
       "Date Joined         0.000000\n",
       "Industry            0.000000\n",
       "City                1.489758\n",
       "Country             0.000000\n",
       "Continent           0.000000\n",
       "Year Founded        0.000000\n",
       "Funding             0.000000\n",
       "Select Investors    0.093110\n",
       "dtype: float64"
      ]
     },
     "metadata": {},
     "output_type": "display_data"
    }
   ],
   "source": [
    "print('The NaN statistics')\n",
    "display(companies.isnull().sum()/len(companies)*100)\n"
   ]
  },
  {
   "cell_type": "code",
   "execution_count": 6,
   "id": "6d1b6138",
   "metadata": {},
   "outputs": [
    {
     "name": "stdout",
     "output_type": "stream",
     "text": [
      "Number of duplicates:  0\n"
     ]
    }
   ],
   "source": [
    "print('Number of duplicates: ', companies.duplicated().sum())"
   ]
  },
  {
   "cell_type": "code",
   "execution_count": 7,
   "id": "58f9f596",
   "metadata": {
    "tags": []
   },
   "outputs": [
    {
     "name": "stdout",
     "output_type": "stream",
     "text": [
      "Rows with NaN in City column\n"
     ]
    },
    {
     "data": {
      "text/html": [
       "<div>\n",
       "<style scoped>\n",
       "    .dataframe tbody tr th:only-of-type {\n",
       "        vertical-align: middle;\n",
       "    }\n",
       "\n",
       "    .dataframe tbody tr th {\n",
       "        vertical-align: top;\n",
       "    }\n",
       "\n",
       "    .dataframe thead th {\n",
       "        text-align: right;\n",
       "    }\n",
       "</style>\n",
       "<table border=\"1\" class=\"dataframe\">\n",
       "  <thead>\n",
       "    <tr style=\"text-align: right;\">\n",
       "      <th></th>\n",
       "      <th>Company</th>\n",
       "      <th>Valuation</th>\n",
       "      <th>Date Joined</th>\n",
       "      <th>Industry</th>\n",
       "      <th>City</th>\n",
       "      <th>Country</th>\n",
       "      <th>Continent</th>\n",
       "      <th>Year Founded</th>\n",
       "      <th>Funding</th>\n",
       "      <th>Select Investors</th>\n",
       "    </tr>\n",
       "  </thead>\n",
       "  <tbody>\n",
       "    <tr>\n",
       "      <th>12</th>\n",
       "      <td>FTX</td>\n",
       "      <td>$32B</td>\n",
       "      <td>2021-07-20</td>\n",
       "      <td>Fintech</td>\n",
       "      <td>NaN</td>\n",
       "      <td>Bahamas</td>\n",
       "      <td>North America</td>\n",
       "      <td>2018</td>\n",
       "      <td>$2B</td>\n",
       "      <td>Sequoia Capital, Thoma Bravo, Softbank</td>\n",
       "    </tr>\n",
       "    <tr>\n",
       "      <th>170</th>\n",
       "      <td>HyalRoute</td>\n",
       "      <td>$4B</td>\n",
       "      <td>2020-05-26</td>\n",
       "      <td>Mobile &amp; telecommunications</td>\n",
       "      <td>NaN</td>\n",
       "      <td>Singapore</td>\n",
       "      <td>Asia</td>\n",
       "      <td>2015</td>\n",
       "      <td>$263M</td>\n",
       "      <td>Kuang-Chi</td>\n",
       "    </tr>\n",
       "    <tr>\n",
       "      <th>242</th>\n",
       "      <td>Moglix</td>\n",
       "      <td>$3B</td>\n",
       "      <td>2021-05-17</td>\n",
       "      <td>E-commerce &amp; direct-to-consumer</td>\n",
       "      <td>NaN</td>\n",
       "      <td>Singapore</td>\n",
       "      <td>Asia</td>\n",
       "      <td>2015</td>\n",
       "      <td>$471M</td>\n",
       "      <td>Jungle Ventures, Accel, Venture Highway</td>\n",
       "    </tr>\n",
       "    <tr>\n",
       "      <th>251</th>\n",
       "      <td>Trax</td>\n",
       "      <td>$3B</td>\n",
       "      <td>2019-07-22</td>\n",
       "      <td>Artificial intelligence</td>\n",
       "      <td>NaN</td>\n",
       "      <td>Singapore</td>\n",
       "      <td>Asia</td>\n",
       "      <td>2010</td>\n",
       "      <td>$1B</td>\n",
       "      <td>Hopu Investment Management, Boyu Capital, DC T...</td>\n",
       "    </tr>\n",
       "    <tr>\n",
       "      <th>325</th>\n",
       "      <td>Amber Group</td>\n",
       "      <td>$3B</td>\n",
       "      <td>2021-06-21</td>\n",
       "      <td>Fintech</td>\n",
       "      <td>NaN</td>\n",
       "      <td>Hong Kong</td>\n",
       "      <td>Asia</td>\n",
       "      <td>2015</td>\n",
       "      <td>$328M</td>\n",
       "      <td>Tiger Global Management, Tiger Brokers, DCM Ve...</td>\n",
       "    </tr>\n",
       "    <tr>\n",
       "      <th>382</th>\n",
       "      <td>Ninja Van</td>\n",
       "      <td>$2B</td>\n",
       "      <td>2021-09-27</td>\n",
       "      <td>Supply chain, logistics, &amp; delivery</td>\n",
       "      <td>NaN</td>\n",
       "      <td>Singapore</td>\n",
       "      <td>Asia</td>\n",
       "      <td>2014</td>\n",
       "      <td>$975M</td>\n",
       "      <td>B Capital Group, Monk's Hill Ventures, Dynamic...</td>\n",
       "    </tr>\n",
       "    <tr>\n",
       "      <th>541</th>\n",
       "      <td>Advance Intelligence Group</td>\n",
       "      <td>$2B</td>\n",
       "      <td>2021-09-23</td>\n",
       "      <td>Artificial intelligence</td>\n",
       "      <td>NaN</td>\n",
       "      <td>Singapore</td>\n",
       "      <td>Asia</td>\n",
       "      <td>2016</td>\n",
       "      <td>$536M</td>\n",
       "      <td>Vision Plus Capital, GSR Ventures, ZhenFund</td>\n",
       "    </tr>\n",
       "    <tr>\n",
       "      <th>811</th>\n",
       "      <td>Carousell</td>\n",
       "      <td>$1B</td>\n",
       "      <td>2021-09-15</td>\n",
       "      <td>E-commerce &amp; direct-to-consumer</td>\n",
       "      <td>NaN</td>\n",
       "      <td>Singapore</td>\n",
       "      <td>Asia</td>\n",
       "      <td>2012</td>\n",
       "      <td>$288M</td>\n",
       "      <td>500 Global, Rakuten Ventures, Golden Gate Vent...</td>\n",
       "    </tr>\n",
       "    <tr>\n",
       "      <th>848</th>\n",
       "      <td>Matrixport</td>\n",
       "      <td>$1B</td>\n",
       "      <td>2021-06-01</td>\n",
       "      <td>Fintech</td>\n",
       "      <td>NaN</td>\n",
       "      <td>Singapore</td>\n",
       "      <td>Asia</td>\n",
       "      <td>2019</td>\n",
       "      <td>$100M</td>\n",
       "      <td>Dragonfly Captial, Qiming Venture Partners, DS...</td>\n",
       "    </tr>\n",
       "    <tr>\n",
       "      <th>880</th>\n",
       "      <td>bolttech</td>\n",
       "      <td>$1B</td>\n",
       "      <td>2021-07-01</td>\n",
       "      <td>Fintech</td>\n",
       "      <td>NaN</td>\n",
       "      <td>Singapore</td>\n",
       "      <td>Asia</td>\n",
       "      <td>2018</td>\n",
       "      <td>$210M</td>\n",
       "      <td>Mundi Ventures, Doqling Capital Partners, Acti...</td>\n",
       "    </tr>\n",
       "    <tr>\n",
       "      <th>889</th>\n",
       "      <td>Carro</td>\n",
       "      <td>$1B</td>\n",
       "      <td>2021-06-14</td>\n",
       "      <td>E-commerce &amp; direct-to-consumer</td>\n",
       "      <td>NaN</td>\n",
       "      <td>Singapore</td>\n",
       "      <td>Asia</td>\n",
       "      <td>2015</td>\n",
       "      <td>$595M</td>\n",
       "      <td>SingTel Innov8, Alpha JWC Ventures, Golden Gat...</td>\n",
       "    </tr>\n",
       "    <tr>\n",
       "      <th>893</th>\n",
       "      <td>Cider</td>\n",
       "      <td>$1B</td>\n",
       "      <td>2021-09-02</td>\n",
       "      <td>E-commerce &amp; direct-to-consumer</td>\n",
       "      <td>NaN</td>\n",
       "      <td>Hong Kong</td>\n",
       "      <td>Asia</td>\n",
       "      <td>2020</td>\n",
       "      <td>$140M</td>\n",
       "      <td>Andreessen Horowitz, DST Global, IDG Capital</td>\n",
       "    </tr>\n",
       "    <tr>\n",
       "      <th>980</th>\n",
       "      <td>NIUM</td>\n",
       "      <td>$1B</td>\n",
       "      <td>2021-07-13</td>\n",
       "      <td>Fintech</td>\n",
       "      <td>NaN</td>\n",
       "      <td>Singapore</td>\n",
       "      <td>Asia</td>\n",
       "      <td>2014</td>\n",
       "      <td>$285M</td>\n",
       "      <td>Vertex Ventures SE Asia, Global Founders Capit...</td>\n",
       "    </tr>\n",
       "    <tr>\n",
       "      <th>986</th>\n",
       "      <td>ONE</td>\n",
       "      <td>$1B</td>\n",
       "      <td>2021-12-08</td>\n",
       "      <td>Internet software &amp; services</td>\n",
       "      <td>NaN</td>\n",
       "      <td>Singapore</td>\n",
       "      <td>Asia</td>\n",
       "      <td>2011</td>\n",
       "      <td>$515M</td>\n",
       "      <td>Temasek, Guggenheim Investments, Qatar Investm...</td>\n",
       "    </tr>\n",
       "    <tr>\n",
       "      <th>994</th>\n",
       "      <td>PatSnap</td>\n",
       "      <td>$1B</td>\n",
       "      <td>2021-03-16</td>\n",
       "      <td>Internet software &amp; services</td>\n",
       "      <td>NaN</td>\n",
       "      <td>Singapore</td>\n",
       "      <td>Asia</td>\n",
       "      <td>2007</td>\n",
       "      <td>$352M</td>\n",
       "      <td>Sequoia Capital China, Shunwei Capital Partner...</td>\n",
       "    </tr>\n",
       "    <tr>\n",
       "      <th>1061</th>\n",
       "      <td>WeLab</td>\n",
       "      <td>$1B</td>\n",
       "      <td>2017-11-08</td>\n",
       "      <td>Fintech</td>\n",
       "      <td>NaN</td>\n",
       "      <td>Hong Kong</td>\n",
       "      <td>Asia</td>\n",
       "      <td>2013</td>\n",
       "      <td>$871M</td>\n",
       "      <td>Sequoia Capital China, ING, Alibaba Entreprene...</td>\n",
       "    </tr>\n",
       "  </tbody>\n",
       "</table>\n",
       "</div>"
      ],
      "text/plain": [
       "                         Company Valuation Date Joined  \\\n",
       "12                           FTX      $32B  2021-07-20   \n",
       "170                    HyalRoute       $4B  2020-05-26   \n",
       "242                       Moglix       $3B  2021-05-17   \n",
       "251                         Trax       $3B  2019-07-22   \n",
       "325                  Amber Group       $3B  2021-06-21   \n",
       "382                    Ninja Van       $2B  2021-09-27   \n",
       "541   Advance Intelligence Group       $2B  2021-09-23   \n",
       "811                    Carousell       $1B  2021-09-15   \n",
       "848                   Matrixport       $1B  2021-06-01   \n",
       "880                     bolttech       $1B  2021-07-01   \n",
       "889                        Carro       $1B  2021-06-14   \n",
       "893                        Cider       $1B  2021-09-02   \n",
       "980                         NIUM       $1B  2021-07-13   \n",
       "986                          ONE       $1B  2021-12-08   \n",
       "994                      PatSnap       $1B  2021-03-16   \n",
       "1061                       WeLab       $1B  2017-11-08   \n",
       "\n",
       "                                 Industry City    Country      Continent  \\\n",
       "12                                Fintech  NaN    Bahamas  North America   \n",
       "170           Mobile & telecommunications  NaN  Singapore           Asia   \n",
       "242       E-commerce & direct-to-consumer  NaN  Singapore           Asia   \n",
       "251               Artificial intelligence  NaN  Singapore           Asia   \n",
       "325                               Fintech  NaN  Hong Kong           Asia   \n",
       "382   Supply chain, logistics, & delivery  NaN  Singapore           Asia   \n",
       "541               Artificial intelligence  NaN  Singapore           Asia   \n",
       "811       E-commerce & direct-to-consumer  NaN  Singapore           Asia   \n",
       "848                               Fintech  NaN  Singapore           Asia   \n",
       "880                               Fintech  NaN  Singapore           Asia   \n",
       "889       E-commerce & direct-to-consumer  NaN  Singapore           Asia   \n",
       "893       E-commerce & direct-to-consumer  NaN  Hong Kong           Asia   \n",
       "980                               Fintech  NaN  Singapore           Asia   \n",
       "986          Internet software & services  NaN  Singapore           Asia   \n",
       "994          Internet software & services  NaN  Singapore           Asia   \n",
       "1061                              Fintech  NaN  Hong Kong           Asia   \n",
       "\n",
       "      Year Founded Funding                                   Select Investors  \n",
       "12            2018     $2B             Sequoia Capital, Thoma Bravo, Softbank  \n",
       "170           2015   $263M                                          Kuang-Chi  \n",
       "242           2015   $471M            Jungle Ventures, Accel, Venture Highway  \n",
       "251           2010     $1B  Hopu Investment Management, Boyu Capital, DC T...  \n",
       "325           2015   $328M  Tiger Global Management, Tiger Brokers, DCM Ve...  \n",
       "382           2014   $975M  B Capital Group, Monk's Hill Ventures, Dynamic...  \n",
       "541           2016   $536M        Vision Plus Capital, GSR Ventures, ZhenFund  \n",
       "811           2012   $288M  500 Global, Rakuten Ventures, Golden Gate Vent...  \n",
       "848           2019   $100M  Dragonfly Captial, Qiming Venture Partners, DS...  \n",
       "880           2018   $210M  Mundi Ventures, Doqling Capital Partners, Acti...  \n",
       "889           2015   $595M  SingTel Innov8, Alpha JWC Ventures, Golden Gat...  \n",
       "893           2020   $140M       Andreessen Horowitz, DST Global, IDG Capital  \n",
       "980           2014   $285M  Vertex Ventures SE Asia, Global Founders Capit...  \n",
       "986           2011   $515M  Temasek, Guggenheim Investments, Qatar Investm...  \n",
       "994           2007   $352M  Sequoia Capital China, Shunwei Capital Partner...  \n",
       "1061          2013   $871M  Sequoia Capital China, ING, Alibaba Entreprene...  "
      ]
     },
     "metadata": {},
     "output_type": "display_data"
    }
   ],
   "source": [
    "print('Rows with NaN in City column') \n",
    "display(companies[companies['City'].isnull()])"
   ]
  },
  {
   "cell_type": "code",
   "execution_count": 8,
   "id": "29e9f105",
   "metadata": {
    "tags": []
   },
   "outputs": [
    {
     "name": "stdout",
     "output_type": "stream",
     "text": [
      "Rows with NaN in Select Investors column\n"
     ]
    },
    {
     "data": {
      "text/html": [
       "<div>\n",
       "<style scoped>\n",
       "    .dataframe tbody tr th:only-of-type {\n",
       "        vertical-align: middle;\n",
       "    }\n",
       "\n",
       "    .dataframe tbody tr th {\n",
       "        vertical-align: top;\n",
       "    }\n",
       "\n",
       "    .dataframe thead th {\n",
       "        text-align: right;\n",
       "    }\n",
       "</style>\n",
       "<table border=\"1\" class=\"dataframe\">\n",
       "  <thead>\n",
       "    <tr style=\"text-align: right;\">\n",
       "      <th></th>\n",
       "      <th>Company</th>\n",
       "      <th>Valuation</th>\n",
       "      <th>Date Joined</th>\n",
       "      <th>Industry</th>\n",
       "      <th>City</th>\n",
       "      <th>Country</th>\n",
       "      <th>Continent</th>\n",
       "      <th>Year Founded</th>\n",
       "      <th>Funding</th>\n",
       "      <th>Select Investors</th>\n",
       "    </tr>\n",
       "  </thead>\n",
       "  <tbody>\n",
       "    <tr>\n",
       "      <th>629</th>\n",
       "      <td>LinkSure Network</td>\n",
       "      <td>$1B</td>\n",
       "      <td>2015-01-01</td>\n",
       "      <td>Mobile &amp; telecommunications</td>\n",
       "      <td>Shanghai</td>\n",
       "      <td>China</td>\n",
       "      <td>Asia</td>\n",
       "      <td>2013</td>\n",
       "      <td>$52M</td>\n",
       "      <td>NaN</td>\n",
       "    </tr>\n",
       "  </tbody>\n",
       "</table>\n",
       "</div>"
      ],
      "text/plain": [
       "              Company Valuation Date Joined                     Industry  \\\n",
       "629  LinkSure Network       $1B  2015-01-01  Mobile & telecommunications   \n",
       "\n",
       "         City Country Continent  Year Founded Funding Select Investors  \n",
       "629  Shanghai   China      Asia          2013    $52M              NaN  "
      ]
     },
     "metadata": {},
     "output_type": "display_data"
    }
   ],
   "source": [
    "print('Rows with NaN in Select Investors column') \n",
    "display(companies[companies['Select Investors'].isnull()])\n"
   ]
  },
  {
   "cell_type": "code",
   "execution_count": 9,
   "id": "76523aba",
   "metadata": {},
   "outputs": [
    {
     "name": "stdout",
     "output_type": "stream",
     "text": [
      "Company : ['Bytedance' 'SpaceX' 'SHEIN' ... 'Zihaiguo' 'Zopa' 'Zwift']\n",
      "\n",
      "Valuation : ['$180B' '$100B' '$95B' '$46B' '$40B' '$39B' '$38B' '$33B' '$32B' '$27B'\n",
      " '$25B' '$22B' '$20B' '$18B' '$17B' '$15B' '$14B' '$13B' '$12B' '$11B'\n",
      " '$10B' '$9B' '$8B' '$7B' '$6B' '$5B' '$4B' '$3B' '$2B' '$1B']\n",
      "\n",
      "Date Joined : ['2017-04-07' '2012-12-01' '2018-07-03' '2014-01-23' '2011-12-12'\n",
      " '2018-01-08' '2019-05-02' '2014-12-30' '2017-12-20' '2019-02-05'\n",
      " '2018-04-26' '2018-10-26' '2021-07-20' '2012-06-06' '2019-03-05'\n",
      " '2017-07-25' '2021-04-07' '2016-03-31' '2022-01-05' '2017-05-31'\n",
      " '2019-12-03' '2018-04-20' '2020-03-01' '2020-10-08' '2021-02-17'\n",
      " '2018-12-11' '2018-10-16' '2019-10-10' '2019-07-12' '2019-06-12'\n",
      " '2019-10-30' '2018-11-15' '2018-10-05' '2021-03-26' '2018-08-06'\n",
      " '2018-07-06' '2021-10-13' '2020-07-22' '2021-06-03' '2018-05-29'\n",
      " '2018-06-21' '2021-05-08' '2016-12-22' '2021-10-08' '2018-06-26'\n",
      " '2018-07-18' '2019-12-20' '2018-09-25' '2018-06-05' '2018-11-14'\n",
      " '2021-10-28' '2016-03-12' '2021-11-01' '2020-04-30' '2015-12-18'\n",
      " '2019-02-21' '2020-04-01' '2017-07-31' '2018-10-03' '2020-07-15'\n",
      " '2021-07-22' '2019-06-10' '2018-07-11' '2019-02-11' '2020-01-21'\n",
      " '2020-10-01' '2019-01-10' '2020-11-17' '2017-11-24' '2015-03-31'\n",
      " '2019-04-09' '2015-01-23' '2018-11-13' '2020-10-11' '2021-03-30'\n",
      " '2021-01-07' '2020-10-06' '2020-11-10' '2021-05-12' '2021-03-29'\n",
      " '2018-03-21' '2021-07-27' '2018-04-30' '2020-07-01' '2016-06-22'\n",
      " '2019-05-13' '2021-04-06' '2020-09-23' '2014-10-27' '2020-08-04'\n",
      " '2019-05-06' '2018-12-09' '2018-01-17' '2019-08-05' '2020-08-12'\n",
      " '2018-11-08' '2021-07-08' '2018-07-02' '2021-11-19' '2021-11-17'\n",
      " '2020-07-27' '2021-05-20' '2018-02-12' '2015-09-22' '2020-06-08'\n",
      " '2019-03-25' '2021-04-21' '2021-01-06' '2020-09-08' '2019-03-19'\n",
      " '2020-06-30' '2020-06-11' '2021-05-18' '2020-12-10' '2019-07-29'\n",
      " '2021-01-19' '2022-02-17' '2011-04-02' '2021-01-12' '2016-04-07'\n",
      " '2020-08-25' '2021-04-14' '2021-03-17' '2020-12-22' '2020-09-29'\n",
      " '2021-04-05' '2014-07-23' '2018-10-08' '2015-08-18' '2018-10-31'\n",
      " '2021-03-16' '2016-08-04' '2019-11-27' '2021-03-31' '2016-07-25'\n",
      " '2019-09-11' '2019-09-19' '2021-01-04' '2019-12-04' '2021-02-25'\n",
      " '2021-07-06' '2021-12-16' '2019-01-29' '2018-08-31' '2021-06-10'\n",
      " '2020-12-18' '2019-07-11' '2019-09-09' '2020-12-02' '2021-03-24'\n",
      " '2019-07-17' '2020-01-26' '2021-07-31' '2019-07-02' '2020-01-24'\n",
      " '2022-01-11' '2021-04-13' '2017-09-15' '2019-03-08' '2021-08-23'\n",
      " '2021-11-29' '2018-07-16' '2020-05-26' '2018-02-26' '2014-11-11'\n",
      " '2021-12-20' '2019-06-25' '2019-02-27' '2021-11-22' '2021-10-12'\n",
      " '2021-04-20' '2021-09-16' '2021-07-13' '2021-02-22' '2017-09-26'\n",
      " '2020-09-22' '2021-03-23' '2020-10-21' '2017-06-24' '2019-04-16'\n",
      " '2020-12-23' '2020-10-22' '2020-02-12' '2021-03-18' '2020-10-28'\n",
      " '2021-05-24' '2021-03-04' '2021-07-28' '2021-04-08' '2021-09-21'\n",
      " '2020-04-16' '2021-07-01' '2021-08-10' '2019-11-13' '2020-11-23'\n",
      " '2021-06-30' '2022-01-24' '2014-04-01' '2019-06-26' '2018-05-08'\n",
      " '2021-06-08' '2018-06-04' '2018-07-31' '2022-02-22' '2018-09-10'\n",
      " '2021-06-16' '2020-12-15' '2021-01-24' '2020-08-03' '2014-09-30'\n",
      " '2017-10-31' '2021-01-25' '2019-10-07' '2020-12-01' '2020-09-02'\n",
      " '2017-04-28' '2021-01-13' '2022-03-22' '2021-01-14' '2016-05-11'\n",
      " '2021-07-09' '2021-05-17' '2019-07-22' '2017-08-23' '2015-11-24'\n",
      " '2013-05-27' '2017-10-12' '2021-06-29' '2018-01-23' '2018-06-11'\n",
      " '2019-08-06' '2022-03-09' '2019-09-18' '2021-06-09' '2021-01-15'\n",
      " '2022-03-30' '2021-06-22' '2022-03-07' '2021-03-22' '2022-03-16'\n",
      " '2022-02-23' '2021-04-28' '2022-02-16' '2021-09-09' '2021-06-23'\n",
      " '2022-04-05' '2021-03-01' '2021-03-03' '2021-07-05' '2019-10-17'\n",
      " '2021-02-23' '2021-09-13' '2021-06-01' '2021-01-28' '2018-04-02'\n",
      " '2021-08-20' '2020-11-24' '2021-05-11' '2020-05-22' '2021-09-14'\n",
      " '2020-04-28' '2019-10-29' '2020-03-30' '2018-09-21' '2015-04-14'\n",
      " '2021-05-13' '2018-12-18' '2020-05-05' '2021-08-24' '2021-03-09'\n",
      " '2021-05-25' '2021-08-12' '2021-02-19' '2022-01-18' '2021-04-09'\n",
      " '2015-09-29' '2019-05-20' '2021-07-30' '2021-12-01' '2021-05-26'\n",
      " '2021-03-25' '2020-01-07' '2020-01-03' '2021-08-17' '2018-09-04'\n",
      " '2019-09-30' '2016-05-03' '2021-06-21' '2021-12-15' '2021-03-11'\n",
      " '2021-01-26' '2021-07-21' '2018-05-15' '2019-09-17' '2022-02-11'\n",
      " '2019-07-18' '2020-11-19' '2022-01-13' '2019-10-23' '2020-04-07'\n",
      " '2021-10-04' '2017-11-01' '2021-10-14' '2017-01-01' '2019-12-05'\n",
      " '2018-12-19' '2019-03-01' '2021-09-15' '2017-02-21' '2017-10-30'\n",
      " '2019-02-01' '2019-04-15' '2021-02-07' '2020-08-01' '2022-01-10'\n",
      " '2018-07-09' '2020-06-17' '2016-11-08' '2015-03-09' '2017-09-22'\n",
      " '2019-07-01' '2021-06-17' '2017-05-11' '2014-12-02' '2016-01-28'\n",
      " '2021-09-27' '2021-12-09' '2015-10-07' '2017-04-10' '2021-01-05'\n",
      " '2018-05-30' '2017-12-04' '2021-12-17' '2021-09-29' '2022-01-31'\n",
      " '2021-09-30' '2021-10-21' '2021-05-19' '2021-10-15' '2019-06-17'\n",
      " '2021-07-29' '2021-10-26' '2022-02-07' '2016-05-24' '2021-03-19'\n",
      " '2021-11-10' '2021-04-29' '2013-02-07' '2021-06-14' '2021-07-26'\n",
      " '2021-12-27' '2021-09-10' '2022-01-04' '2020-11-16' '2015-06-17'\n",
      " '2021-12-21' '2022-01-26' '2021-08-13' '2021-04-17' '2017-04-14'\n",
      " '2015-08-20' '2021-04-27' '2022-03-17' '2019-04-02' '2021-09-02'\n",
      " '2021-05-04' '2015-04-29' '2021-07-03' '2021-05-03' '2021-10-27'\n",
      " '2020-01-29' '2022-02-01' '2015-06-16' '2015-09-09' '2021-04-19'\n",
      " '2020-08-18' '2020-08-17' '2021-07-12' '2022-01-27' '2020-11-03'\n",
      " '2021-11-07' '2018-02-16' '2018-10-22' '2022-02-02' '2021-11-04'\n",
      " '2021-09-07' '2021-11-09' '2020-09-24' '2019-04-23' '2020-02-11'\n",
      " '2015-10-27' '2021-12-10' '2021-10-06' '2021-11-24' '2021-06-07'\n",
      " '2018-11-01' '2018-04-16' '2021-05-05' '2022-02-15' '2019-11-11'\n",
      " '2018-02-22' '2021-08-04' '2019-07-31' '2021-09-23' '2022-01-12'\n",
      " '2019-10-08' '2021-06-15' '2018-03-08' '2021-09-08' '2021-12-22'\n",
      " '2022-03-04' '2022-03-29' '2020-10-27' '2020-02-07' '2022-02-08'\n",
      " '2022-03-14' '2022-01-06' '2021-05-06' '2022-03-10' '2021-03-08'\n",
      " '2021-10-18' '2012-12-17' '2015-09-16' '2021-09-22' '2021-06-18'\n",
      " '2019-02-06' '2021-05-31' '2019-06-20' '2020-03-10' '2022-01-17'\n",
      " '2018-08-01' '2016-09-05' '2020-12-17' '2019-03-27' '2020-05-19'\n",
      " '2019-06-05' '2019-05-23' '2014-10-21' '2019-03-04' '2018-05-17'\n",
      " '2017-04-21' '2021-10-25' '2012-02-13' '2018-04-09' '2021-08-11'\n",
      " '2020-09-30' '2019-05-31' '2017-08-07' '2021-12-31' '2021-01-11'\n",
      " '2020-12-03' '2018-12-20' '2015-07-22' '2019-01-22' '2018-10-18'\n",
      " '2015-10-29' '2021-04-11' '2015-11-18' '2015-04-21' '2018-11-26'\n",
      " '2020-01-28' '2018-07-13' '2015-07-13' '2015-01-01' '2017-05-10'\n",
      " '2016-08-15' '2021-06-02' '2021-08-16' '2019-05-16' '2014-05-21'\n",
      " '2019-07-16' '2021-02-18' '2018-04-08' '2016-11-09' '2019-01-14'\n",
      " '2019-03-11' '2018-06-01' '2019-06-27' '2020-10-26' '2017-11-30'\n",
      " '2020-12-21' '2021-02-21' '2019-10-25' '2015-01-16' '2017-06-08'\n",
      " '2022-02-24' '2016-04-13' '2018-09-20' '2019-06-03' '2018-03-16'\n",
      " '2020-08-14' '2021-07-14' '2019-05-15' '2018-01-22' '2018-08-02'\n",
      " '2020-12-31' '2014-10-23' '2021-12-02' '2021-12-07' '2021-10-07'\n",
      " '2022-02-10' '2022-01-25' '2021-02-03' '2017-05-16' '2022-02-14'\n",
      " '2017-10-17' '2007-07-02' '2018-08-07' '2021-04-15' '2019-09-06'\n",
      " '2019-04-25' '2018-07-19' '2021-10-20' '2020-03-06' '2022-03-23'\n",
      " '2022-01-14' '2020-12-24' '2019-11-19' '2018-03-27' '2019-02-14'\n",
      " '2020-12-16' '2021-10-05' '2017-12-01' '2022-01-21' '2022-02-28'\n",
      " '2021-05-07' '2021-09-28' '2021-08-03' '2021-08-31' '2020-07-16'\n",
      " '2021-06-24' '2021-08-09' '2020-06-23' '2022-02-09' '2016-01-01'\n",
      " '2017-07-20' '2021-02-11' '2018-09-15' '2019-12-16' '2022-03-31'\n",
      " '2021-11-16' '2021-11-30' '2021-12-28' '2019-05-21' '2016-04-14'\n",
      " '2021-02-08' '2020-11-12' '2020-01-09' '2022-03-15' '2014-03-20'\n",
      " '2018-09-18' '2017-11-27' '2017-08-25' '2020-10-16' '2021-07-07'\n",
      " '2019-10-21' '2015-07-30' '2021-11-15' '2018-02-20' '2018-11-20'\n",
      " '2021-08-30' '2015-10-12' '2020-01-30' '2021-03-10' '2021-02-16'\n",
      " '2018-09-13' '2015-01-22' '2015-06-02' '2021-09-01' '2018-11-06'\n",
      " '2021-08-05' '2019-08-07' '2021-12-14' '2021-12-06' '2022-03-21'\n",
      " '2017-08-02' '2021-11-08' '2021-01-27' '2018-04-10' '2019-10-16'\n",
      " '2021-11-18' '2021-02-01' '2018-08-27' '2015-07-02' '2018-11-21'\n",
      " '2021-07-19' '2021-09-24' '2018-05-21' '2020-03-17' '2018-05-24'\n",
      " '2016-04-12' '2020-07-30' '2019-03-22' '2016-12-21' '2019-05-30'\n",
      " '2015-03-06' '2018-07-05' '2013-10-10' '2021-12-08' '2017-11-15'\n",
      " '2018-07-10' '2019-06-18' '2015-09-08' '2017-04-06' '2021-11-02'\n",
      " '2018-10-17' '2018-07-12' '2021-04-30' '2020-07-10' '2021-11-23'\n",
      " '2019-08-22' '2018-10-23' '2021-08-26' '2020-09-21' '2019-04-29'\n",
      " '2020-05-13' '2015-01-07' '2018-12-10' '2017-10-23' '2021-02-10'\n",
      " '2021-04-22' '2021-11-28' '2016-06-07' '2021-12-13' '2018-05-03'\n",
      " '2021-10-11' '2014-08-29' '2018-10-25' '2021-04-12' '2018-10-10'\n",
      " '2021-11-03' '2015-08-12' '2019-05-07' '2017-11-08' '2017-09-21'\n",
      " '2017-06-29' '2017-04-18' '2021-10-19' '2020-09-16']\n",
      "\n",
      "Industry : ['Artificial intelligence' 'Other' 'E-commerce & direct-to-consumer'\n",
      " 'Fintech' 'Internet software & services'\n",
      " 'Supply chain, logistics, & delivery' 'Consumer & retail'\n",
      " 'Data management & analytics' 'Edtech' 'Health' 'Hardware'\n",
      " 'Auto & transportation' 'Travel' 'Cybersecurity'\n",
      " 'Mobile & telecommunications' 'Artificial Intelligence']\n",
      "\n",
      "City : ['Beijing' 'Hawthorne' 'Shenzhen' 'San Francisco' 'Stockholm'\n",
      " 'Surry Hills' 'London' 'Cary' nan 'Jacksonville' 'Bengaluru' 'Jakarta'\n",
      " 'Shanghai' 'Philadelphia' 'Waltham' 'New York' 'Pittsburgh' 'Istanbul'\n",
      " 'San Diego' 'Roseville' 'Changsha' 'Tallinn' 'Luohe' 'Munich' 'Gurugram'\n",
      " 'Boston' 'Glendale' 'Cheung Sha Wan' 'Walpole' 'Seoul' 'Fremont'\n",
      " 'Mountain View' 'Lerma de Villada' 'Berlin' 'Kirkland' 'Mumbai'\n",
      " 'Santa Clara' 'Vancouver' 'San Jose' 'San Mateo' 'Irving' 'Chicago'\n",
      " 'Redwood City' 'Hoboken' 'Palo Alto' 'Toronto' 'Los Angeles' 'Hangzhou'\n",
      " 'Changzhou' 'Melbourne' 'Amsterdam' 'Paris' 'Oakland' 'Brooklyn'\n",
      " 'Helsinki' 'Burlingame' 'Tel Aviv' 'Zhuhai' 'Guangzhou' 'Vilnius'\n",
      " 'Irvine' 'Copenhagen' 'Brussels' 'Bogota' 'Sao Paulo' 'Atlanta'\n",
      " 'Campinas' 'Montreal' 'Bellevue' 'Gurgaon' 'Noida' 'Suzhou' 'El Segundo'\n",
      " 'Faridabad' 'Miami' 'Walnut' 'Seattle' 'San Ramon' 'Duderstadt'\n",
      " 'Sunnyvale' 'Eden Prairie' 'Culver City' 'Carson City' 'Bend' 'Denver'\n",
      " 'Inglewood' 'Detroit' 'Vienna' 'Chengdu' 'Dublin' 'Los Altos'\n",
      " 'San Carlos' 'Columbus' 'Mississauga' 'Carlsbad' 'Dubai' 'Schaffhausen'\n",
      " 'Burlington' 'Nanjing' 'Madison' 'Sydney' 'Thane' 'McLean' 'Oulu'\n",
      " 'Raleigh' 'Louisville' 'Englewood Cliffs' 'Scottsdale' 'Dallas' 'Alameda'\n",
      " 'Bristol' 'Kitchener' 'Sacramento' 'South San Francisco' 'New Delhi'\n",
      " 'Chatham' 'Houston' 'Austin' 'Jersey City' 'Cambridge' 'Fort Lee'\n",
      " 'Dongguan' 'South Jordan' 'Lehi' 'Ho Chi Minh City' 'Westerville'\n",
      " 'Zephyr Cove' 'Jiangsu' 'Bryanston' 'Peterborough' 'Lausanne' 'Aberdeen'\n",
      " 'Bangkok' 'Nashville' 'Lysaker' 'Richmond' 'Pune' 'Santa Barbara'\n",
      " 'Altrincham' 'Northbrook' 'Santiago' 'Curitiba' 'Cincinnati' 'Herzliya'\n",
      " 'Boulder' 'Marina del Rey' 'Buenos Aires' 'Hunan' 'Hamilton' 'Burnaby'\n",
      " 'Foster City' 'Tokyo' 'Hayward' 'Chongqing' 'Norfolk' 'Madrid' 'Selangor'\n",
      " 'Hanover' 'Dakar' 'Louvain-la-Neuve' 'Santa Monica' 'Mexico City'\n",
      " 'Unterfoehring' 'Jerusalem' 'Colchester' 'Bruchsal' 'Bethesda'\n",
      " 'Bangalore' 'Orlando' 'Goleta' 'Portola Valley' 'Croix' 'Somerville'\n",
      " 'Aarhus' 'Plantation' 'Pennsauken' 'Taguig City' 'Leudelange' 'Lagos'\n",
      " 'Netanya' 'Kowloon' 'Framingham' 'Seongnam-Si' 'Berkeley Heights'\n",
      " 'Midrand' 'Wuxi' 'Chennai' 'Menlo Park' 'Tianjin' 'Boca Raton' 'Roubaix'\n",
      " 'Ambler' 'Guiyang' 'Salt Lake City' 'Hefei' 'Evry' 'Wuhan' \"Giv'atayim\"\n",
      " 'Portland' 'Draper' 'Solihull' 'Pleasanton' 'Ghent'\n",
      " 'La Plaine Saint-Denis' 'Central' 'Washington' 'Berkeley' 'Encinitas'\n",
      " 'Tirat Carmel' 'Long Beach' 'Barcelona' 'Sherman Oaks' 'Boise' 'Tsuruoka'\n",
      " 'Jaipur' 'Oslo' 'Princeton' 'Prague' 'Tustin' 'Washington DC' 'Qingdao'\n",
      " 'Maharashtra' 'Waterloo' 'Cedar Park' 'Andheri' 'Prilly' 'Islandia'\n",
      " 'Chemnitz' 'Crewe' 'Jeju-do' 'Ramat Gan' 'Ottawa' 'Englewood' 'Leawood'\n",
      " 'Lincoln' 'Hyderabad' \"Ra'anana\" 'Herndon' 'Brisbane' 'Espoo' 'Osasco'\n",
      " 'Vodnjan' 'Arlington' 'Wilmington' 'Parana' 'Zurich' 'Petah Tikva'\n",
      " 'Alexandria' 'Bellingham' 'Charlotte' 'Colorado Springs' 'Fort Mill'\n",
      " 'Tampa' 'Manila' 'Milan' 'Montpellier' 'Milpitas']\n",
      "\n",
      "Country : ['China' 'United States' 'Sweden' 'Australia' 'United Kingdom' 'Bahamas'\n",
      " 'India' 'Indonesia' 'Turkey' 'Estonia' 'Germany' 'Hong Kong'\n",
      " 'South Korea' 'Mexico' 'Canada' 'Netherlands' 'France' 'Finland' 'Israel'\n",
      " 'Lithuania' 'Denmark' 'Belgium' 'Colombia' 'Brazil' 'Singapore' 'Austria'\n",
      " 'Ireland' 'United Arab Emirates' 'Switzerland' 'Vietnam' 'South Africa'\n",
      " 'Thailand' 'Norway' 'Chile' 'Argentina' 'Bermuda' 'Japan' 'Spain'\n",
      " 'Malaysia' 'Senegal' 'Philippines' 'Luxembourg' 'Nigeria'\n",
      " 'Czech Republic' 'Croatia' 'Italy']\n",
      "\n",
      "Continent : ['Asia' 'North America' 'Europe' 'Oceania' 'South America' 'Africa']\n",
      "\n",
      "Year Founded : [2012 2002 2008 2010 2005 2015 2013 1991 2018 2011 2016 2017 2009 2003\n",
      " 2014 1999 1998 2001 2007 2006 2019 1996 2020 2004 1994 1919 1995 2000\n",
      " 2021 1979 1992 1984 1990 1993 1997]\n",
      "\n",
      "Funding : ['$8B' '$7B' '$2B' '$4B' '$572M' '$3B' '$14B' '$5B' '$918M' '$476M'\n",
      " '$770M' '$979M' '$721M' '$490M' '$734M' '$427M' '$400M' '$1B' '$799M'\n",
      " '$765M' '$800M' '$376M' '$558M' '$294M' '$564M' '$333M' '$691M' '$343M'\n",
      " '$497M' '$71M' '$679M' '$775M' '$105M' '$742M' '$607M' '$549M' '$660M'\n",
      " '$820M' '$297M' '$922M' '$863M' '$447M' '$844M' '$603M' '$583M' '$912M'\n",
      " '$920M' '$849M' '$424M' '$645M' '$802M' '$629M' '$448M' '$928M' '$815M'\n",
      " '$728M' '$433M' '$891M' '$524M' '$803M' '$415M' '$587M' '$826M' '$910M'\n",
      " '$412M' '$405M' '$729M' '$600M' '$869M' '$187M' '$943M' '$514M' '$492M'\n",
      " '$644M' '$562M' '$286M' '$559M' '$647M' '$567M' '$428M' '$996M' '$596M'\n",
      " '$426M' '$462M' '$824M' '$926M' '$755M' '$633M' '$599M' '$371M' '$425M'\n",
      " '$761M' '$903M' '$704M' '$503M' '$655M' '$263M' '$216M' '$128M' '$776M'\n",
      " '$119M' '$555M' '$864M' '$468M' '$505M' '$542M' '$381M' '$434M' '$643M'\n",
      " '$948M' '$435M' '$0M' '$489M' '$352M' '$477M' '$125M' '$404M' '$498M'\n",
      " '$493M' '$657M' '$440M' '$792M' '$739M' '$324M' '$379M' '$367M' '$414M'\n",
      " '$350M' '$495M' '$664M' 'Unknown' '$546M' '$523M' '$667M' '$250M' '$720M'\n",
      " '$535M' '$110M' '$870M' '$614M' '$504M' '$881M' '$856M' '$413M' '$230M'\n",
      " '$553M' '$445M' '$335M' '$450M' '$1M' '$154M' '$471M' '$54M' '$418M'\n",
      " '$859M' '$714M' '$225M' '$408M' '$500M' '$532M' '$531M' '$582M' '$75M'\n",
      " '$685M' '$280M' '$274M' '$314M' '$366M' '$465M' '$730M' '$987M' '$313M'\n",
      " '$148M' '$789M' '$395M' '$496M' '$706M' '$357M' '$722M' '$407M' '$818M'\n",
      " '$248M' '$507M' '$543M' '$200M' '$417M' '$999M' '$880M' '$777M' '$398M'\n",
      " '$666M' '$461M' '$682M' '$483M' '$299M' '$326M' '$812M' '$591M' '$334M'\n",
      " '$399M' '$698M' '$551M' '$665M' '$628M' '$475M' '$788M' '$360M' '$328M'\n",
      " '$487M' '$351M' '$711M' '$975M' '$474M' '$525M' '$393M' '$612M' '$329M'\n",
      " '$330M' '$170M' '$240M' '$419M' '$311M' '$339M' '$919M' '$180M' '$127M'\n",
      " '$224M' '$45M' '$946M' '$19M' '$536M' '$188M' '$101M' '$390M' '$717M'\n",
      " '$29M' '$186M' '$137M' '$634M' '$556M' '$594M' '$696M' '$640M' '$754M'\n",
      " '$221M' '$340M' '$766M' '$431M' '$233M' '$472M' '$861M' '$568M' '$320M'\n",
      " '$181M' '$150M' '$289M' '$100M' '$719M' '$257M' '$828M' '$142M' '$261M'\n",
      " '$466M' '$245M' '$310M' '$192M' '$211M' '$203M' '$370M' '$217M' '$253M'\n",
      " '$218M' '$190M' '$152M' '$129M' '$177M' '$331M' '$204M' '$544M' '$90M'\n",
      " '$120M' '$380M' '$401M' '$744M' '$282M' '$386M' '$151M' '$421M' '$219M'\n",
      " '$325M' '$538M' '$222M' '$255M' '$195M' '$139M' '$236M' '$298M' '$624M'\n",
      " '$266M' '$902M' '$179M' '$403M' '$397M' '$364M' '$285M' '$517M' '$577M'\n",
      " '$315M' '$358M' '$251M' '$237M' '$231M' '$663M' '$275M' '$557M' '$229M'\n",
      " '$277M' '$509M' '$423M' '$378M' '$422M' '$402M' '$710M' '$287M' '$550M'\n",
      " '$259M' '$172M' '$305M' '$374M' '$193M' '$676M' '$345M' '$96M' '$295M'\n",
      " '$301M' '$300M' '$441M' '$593M' '$529M' '$349M' '$268M' '$365M' '$791M'\n",
      " '$210M' '$438M' '$293M' '$658M' '$341M' '$449M' '$115M' '$281M' '$302M'\n",
      " '$456M' '$410M' '$121M' '$342M' '$545M' '$569M' '$527M' '$183M' '$202M'\n",
      " '$570M' '$566M' '$147M' '$226M' '$356M' '$296M' '$161M' '$432M' '$373M'\n",
      " '$768M' '$950M' '$786M' '$94M' '$62M' '$206M' '$547M' '$227M' '$79M'\n",
      " '$214M' '$700M' '$223M' '$249M' '$131M' '$143M' '$650M' '$344M' '$52M'\n",
      " '$394M' '$163M' '$164M' '$43M' '$171M' '$174M' '$369M' '$307M' '$149M'\n",
      " '$554M' '$947M' '$160M' '$388M' '$98M' '$235M' '$632M' '$116M' '$267M'\n",
      " '$271M' '$511M' '$207M' '$362M' '$228M' '$262M' '$323M' '$303M' '$318M'\n",
      " '$165M' '$264M' '$384M' '$169M' '$368M' '$141M' '$241M' '$521M' '$382M'\n",
      " '$436M' '$156M' '$276M' '$178M' '$67M' '$252M' '$361M' '$738M' '$102M'\n",
      " '$130M' '$215M' '$166M' '$336M' '$201M' '$10M' '$610M' '$291M' '$246M'\n",
      " '$157M' '$260M' '$482M' '$14M' '$167M' '$520M' '$191M' '$111M' '$317M'\n",
      " '$189M' '$337M' '$430M' '$124M' '$118M' '$309M' '$347M' '$194M' '$9M'\n",
      " '$573M' '$33M' '$787M' '$144M' '$197M' '$875M' '$205M' '$292M' '$396M'\n",
      " '$458M' '$288M' '$140M' '$109M' '$304M' '$258M' '$656M' '$185M' '$134M'\n",
      " '$136M' '$346M' '$53M' '$247M' '$107M' '$132M' '$86M' '$273M' '$243M'\n",
      " '$265M' '$534M' '$64M' '$697M' '$238M' '$526M' '$406M' '$595M' '$182M'\n",
      " '$254M' '$196M' '$269M' '$232M' '$460M' '$209M' '$279M' '$145M' '$391M'\n",
      " '$359M' '$283M' '$439M' '$284M' '$93M' '$592M' '$17M' '$173M' '$135M'\n",
      " '$92M' '$306M' '$126M' '$91M' '$588M' '$463M' '$220M' '$515M' '$51M'\n",
      " '$60M' '$239M' '$15M' '$484M' '$416M' '$114M' '$623M' '$585M' '$516M'\n",
      " '$308M' '$70M' '$871M' '$389M' '$990M' '$80M' '$620M']\n",
      "\n",
      "Select Investors : ['Sequoia Capital China, SIG Asia Investments, Sina Weibo, Softbank Group'\n",
      " 'Founders Fund, Draper Fisher Jurvetson, Rothenberg Ventures'\n",
      " 'Tiger Global Management, Sequoia Capital China, Shunwei Capital Partners'\n",
      " ...\n",
      " 'Xingwang Investment Management, China Capital Investment Group, Matrix Partners China'\n",
      " 'IAG Capital Partners, Augmentum Fintech, Northzone Ventures'\n",
      " 'Novator Partners, True, Causeway Media Partners']\n",
      "\n"
     ]
    }
   ],
   "source": [
    "for column in companies.columns:\n",
    "    print(column, ':', companies[column].unique()) \n",
    "    print() \n",
    "    # עובר על כל עמודה בדאטא פריים 'companies', מדפיס את שם העמודה ואת כל הערכים הייחודיים בה. מוסיף שורה ריקה לאחר כל עמודה לנוחות קריאה.\n",
    "#.unique()  מחזיר רשימה של כל הערכים הייחודיים בעמודה, שימושי לזיהוי מגוון הנתונים ולזיהוי ערכים חריגים או שגיאות"
   ]
  },
  {
   "cell_type": "code",
   "execution_count": 10,
   "id": "f1eda5ae",
   "metadata": {
    "tags": []
   },
   "outputs": [
    {
     "data": {
      "text/html": [
       "<div>\n",
       "<style scoped>\n",
       "    .dataframe tbody tr th:only-of-type {\n",
       "        vertical-align: middle;\n",
       "    }\n",
       "\n",
       "    .dataframe tbody tr th {\n",
       "        vertical-align: top;\n",
       "    }\n",
       "\n",
       "    .dataframe thead th {\n",
       "        text-align: right;\n",
       "    }\n",
       "</style>\n",
       "<table border=\"1\" class=\"dataframe\">\n",
       "  <thead>\n",
       "    <tr style=\"text-align: right;\">\n",
       "      <th></th>\n",
       "      <th>Year Founded</th>\n",
       "    </tr>\n",
       "  </thead>\n",
       "  <tbody>\n",
       "    <tr>\n",
       "      <th>count</th>\n",
       "      <td>1074.000000</td>\n",
       "    </tr>\n",
       "    <tr>\n",
       "      <th>mean</th>\n",
       "      <td>2012.895717</td>\n",
       "    </tr>\n",
       "    <tr>\n",
       "      <th>std</th>\n",
       "      <td>5.698573</td>\n",
       "    </tr>\n",
       "    <tr>\n",
       "      <th>min</th>\n",
       "      <td>1919.000000</td>\n",
       "    </tr>\n",
       "    <tr>\n",
       "      <th>25%</th>\n",
       "      <td>2011.000000</td>\n",
       "    </tr>\n",
       "    <tr>\n",
       "      <th>50%</th>\n",
       "      <td>2014.000000</td>\n",
       "    </tr>\n",
       "    <tr>\n",
       "      <th>75%</th>\n",
       "      <td>2016.000000</td>\n",
       "    </tr>\n",
       "    <tr>\n",
       "      <th>max</th>\n",
       "      <td>2021.000000</td>\n",
       "    </tr>\n",
       "  </tbody>\n",
       "</table>\n",
       "</div>"
      ],
      "text/plain": [
       "       Year Founded\n",
       "count   1074.000000\n",
       "mean    2012.895717\n",
       "std        5.698573\n",
       "min     1919.000000\n",
       "25%     2011.000000\n",
       "50%     2014.000000\n",
       "75%     2016.000000\n",
       "max     2021.000000"
      ]
     },
     "metadata": {},
     "output_type": "display_data"
    }
   ],
   "source": [
    "display(companies.describe()) # מציג סטטיסטיקות תיאוריות בסיסיות עבור הדאטא פריים 'companies'. כולל ספירה, ממוצע, סטיית תקן, מינימום, מקסימום, וערכי הרבעונים לעמודות נומריות.\n",
    "#.describe()  מחשב ומציג סטטיסטיקות תיאוריות כגון ממוצע, סטיית תקן, מינימום, מקסימום, וערכי הרבעונים עבור עמודות נומריות בדאטא פריים. שימושי לקבלת מבט כולל על התפלגות הנתונים."
   ]
  },
  {
   "cell_type": "code",
   "execution_count": 11,
   "id": "a641648e",
   "metadata": {
    "scrolled": true,
    "tags": []
   },
   "outputs": [
    {
     "data": {
      "text/html": [
       "<div>\n",
       "<style scoped>\n",
       "    .dataframe tbody tr th:only-of-type {\n",
       "        vertical-align: middle;\n",
       "    }\n",
       "\n",
       "    .dataframe tbody tr th {\n",
       "        vertical-align: top;\n",
       "    }\n",
       "\n",
       "    .dataframe thead th {\n",
       "        text-align: right;\n",
       "    }\n",
       "</style>\n",
       "<table border=\"1\" class=\"dataframe\">\n",
       "  <thead>\n",
       "    <tr style=\"text-align: right;\">\n",
       "      <th></th>\n",
       "      <th>Company</th>\n",
       "      <th>Valuation</th>\n",
       "      <th>Date Joined</th>\n",
       "      <th>Industry</th>\n",
       "      <th>City</th>\n",
       "      <th>Country</th>\n",
       "      <th>Continent</th>\n",
       "      <th>Funding</th>\n",
       "      <th>Select Investors</th>\n",
       "    </tr>\n",
       "  </thead>\n",
       "  <tbody>\n",
       "    <tr>\n",
       "      <th>count</th>\n",
       "      <td>1074</td>\n",
       "      <td>1074</td>\n",
       "      <td>1074</td>\n",
       "      <td>1074</td>\n",
       "      <td>1058</td>\n",
       "      <td>1074</td>\n",
       "      <td>1074</td>\n",
       "      <td>1074</td>\n",
       "      <td>1073</td>\n",
       "    </tr>\n",
       "    <tr>\n",
       "      <th>unique</th>\n",
       "      <td>1073</td>\n",
       "      <td>30</td>\n",
       "      <td>639</td>\n",
       "      <td>16</td>\n",
       "      <td>256</td>\n",
       "      <td>46</td>\n",
       "      <td>6</td>\n",
       "      <td>539</td>\n",
       "      <td>1058</td>\n",
       "    </tr>\n",
       "    <tr>\n",
       "      <th>top</th>\n",
       "      <td>Bolt</td>\n",
       "      <td>$1B</td>\n",
       "      <td>2021-07-13</td>\n",
       "      <td>Fintech</td>\n",
       "      <td>San Francisco</td>\n",
       "      <td>United States</td>\n",
       "      <td>North America</td>\n",
       "      <td>$1B</td>\n",
       "      <td>Sequoia Capital</td>\n",
       "    </tr>\n",
       "    <tr>\n",
       "      <th>freq</th>\n",
       "      <td>2</td>\n",
       "      <td>471</td>\n",
       "      <td>9</td>\n",
       "      <td>224</td>\n",
       "      <td>152</td>\n",
       "      <td>562</td>\n",
       "      <td>589</td>\n",
       "      <td>60</td>\n",
       "      <td>3</td>\n",
       "    </tr>\n",
       "  </tbody>\n",
       "</table>\n",
       "</div>"
      ],
      "text/plain": [
       "       Company Valuation Date Joined Industry           City        Country  \\\n",
       "count     1074      1074        1074     1074           1058           1074   \n",
       "unique    1073        30         639       16            256             46   \n",
       "top       Bolt       $1B  2021-07-13  Fintech  San Francisco  United States   \n",
       "freq         2       471           9      224            152            562   \n",
       "\n",
       "            Continent Funding Select Investors  \n",
       "count            1074    1074             1073  \n",
       "unique              6     539             1058  \n",
       "top     North America     $1B  Sequoia Capital  \n",
       "freq              589      60                3  "
      ]
     },
     "metadata": {},
     "output_type": "display_data"
    }
   ],
   "source": [
    "display(companies.describe(include=['object'])) # מציג סטטיסטיקות תיאוריות עבור עמודות שהן מסוג אובייקט (לרוב מחרוזות) בדאטא פריים 'companies'. כולל ספירה, ערכים ייחודיים, הערך הנפוץ ביותר ותדירותו.\n"
   ]
  },
  {
   "cell_type": "markdown",
   "id": "987ec59d",
   "metadata": {},
   "source": [
    "## General information:\n",
    "####   1. NaN values: the only columns contains NaN values is 'City' and 'Select Investors'.\n",
    "- A. City contains 1061 NaN values which mean 1.4% are NaN  data.\n",
    "- B. Select Investors contains 0.09% NaN values and its just one row.\n",
    "####    2. there is no entirely duplicates  rows according to the above. but if we look closely we can see that there is \"Artificial intelligence\" and \"Artificial Intelligence\" industries which are the same industry but for Python they are two, so we should make them one in the prespective of Python. \n",
    "####    3. there are data types need to change:\n",
    "-        A. Funding: object to int\n",
    "-        B. Valuation: object to int\n",
    "    "
   ]
  },
  {
   "cell_type": "markdown",
   "id": "6d0c5278",
   "metadata": {},
   "source": [
    "## STEP II: Preparation of Data:"
   ]
  },
  {
   "cell_type": "code",
   "execution_count": 12,
   "id": "c0944f20",
   "metadata": {
    "tags": []
   },
   "outputs": [],
   "source": [
    "# converting column names to lowercase \n",
    "companies = companies.rename(columns=str.lower)"
   ]
  },
  {
   "cell_type": "markdown",
   "id": "a16bccdc",
   "metadata": {},
   "source": [
    "### Processing NaN values"
   ]
  },
  {
   "cell_type": "code",
   "execution_count": 13,
   "id": "119237ba",
   "metadata": {
    "tags": []
   },
   "outputs": [],
   "source": [
    "companies_upd = companies.fillna({'city': 'unkown'}) # מייצר גרסה מעודכנת של הדאטא פריים 'companies', בה כל ערך חסר בעמודת 'city' מוחלף במחרוזת 'unkown'.\n"
   ]
  },
  {
   "cell_type": "markdown",
   "id": "c013179f",
   "metadata": {},
   "source": [
    "### changing data types"
   ]
  },
  {
   "cell_type": "code",
   "execution_count": 14,
   "id": "c5f13bea",
   "metadata": {
    "tags": []
   },
   "outputs": [
    {
     "name": "stdout",
     "output_type": "stream",
     "text": [
      "<class 'pandas.core.frame.DataFrame'>\n",
      "RangeIndex: 1074 entries, 0 to 1073\n",
      "Data columns (total 10 columns):\n",
      " #   Column            Non-Null Count  Dtype \n",
      "---  ------            --------------  ----- \n",
      " 0   company           1074 non-null   object\n",
      " 1   valuation         1074 non-null   object\n",
      " 2   date joined       1074 non-null   object\n",
      " 3   industry          1074 non-null   object\n",
      " 4   city              1074 non-null   object\n",
      " 5   country           1074 non-null   object\n",
      " 6   continent         1074 non-null   object\n",
      " 7   year founded      1074 non-null   int64 \n",
      " 8   funding           1074 non-null   object\n",
      " 9   select investors  1073 non-null   object\n",
      "dtypes: int64(1), object(9)\n",
      "memory usage: 84.0+ KB\n"
     ]
    }
   ],
   "source": [
    "companies_upd.info()"
   ]
  },
  {
   "cell_type": "code",
   "execution_count": 15,
   "id": "3d81c97c",
   "metadata": {
    "tags": []
   },
   "outputs": [
    {
     "data": {
      "text/html": [
       "<div>\n",
       "<style scoped>\n",
       "    .dataframe tbody tr th:only-of-type {\n",
       "        vertical-align: middle;\n",
       "    }\n",
       "\n",
       "    .dataframe tbody tr th {\n",
       "        vertical-align: top;\n",
       "    }\n",
       "\n",
       "    .dataframe thead th {\n",
       "        text-align: right;\n",
       "    }\n",
       "</style>\n",
       "<table border=\"1\" class=\"dataframe\">\n",
       "  <thead>\n",
       "    <tr style=\"text-align: right;\">\n",
       "      <th></th>\n",
       "      <th>company</th>\n",
       "      <th>valuation</th>\n",
       "      <th>date joined</th>\n",
       "      <th>industry</th>\n",
       "      <th>city</th>\n",
       "      <th>country</th>\n",
       "      <th>continent</th>\n",
       "      <th>year founded</th>\n",
       "      <th>funding</th>\n",
       "      <th>select investors</th>\n",
       "    </tr>\n",
       "  </thead>\n",
       "  <tbody>\n",
       "    <tr>\n",
       "      <th>0</th>\n",
       "      <td>Bytedance</td>\n",
       "      <td>$180B</td>\n",
       "      <td>2017-04-07</td>\n",
       "      <td>Artificial intelligence</td>\n",
       "      <td>Beijing</td>\n",
       "      <td>China</td>\n",
       "      <td>Asia</td>\n",
       "      <td>2012</td>\n",
       "      <td>$8B</td>\n",
       "      <td>Sequoia Capital China, SIG Asia Investments, S...</td>\n",
       "    </tr>\n",
       "    <tr>\n",
       "      <th>1</th>\n",
       "      <td>SpaceX</td>\n",
       "      <td>$100B</td>\n",
       "      <td>2012-12-01</td>\n",
       "      <td>Other</td>\n",
       "      <td>Hawthorne</td>\n",
       "      <td>United States</td>\n",
       "      <td>North America</td>\n",
       "      <td>2002</td>\n",
       "      <td>$7B</td>\n",
       "      <td>Founders Fund, Draper Fisher Jurvetson, Rothen...</td>\n",
       "    </tr>\n",
       "    <tr>\n",
       "      <th>2</th>\n",
       "      <td>SHEIN</td>\n",
       "      <td>$100B</td>\n",
       "      <td>2018-07-03</td>\n",
       "      <td>E-commerce &amp; direct-to-consumer</td>\n",
       "      <td>Shenzhen</td>\n",
       "      <td>China</td>\n",
       "      <td>Asia</td>\n",
       "      <td>2008</td>\n",
       "      <td>$2B</td>\n",
       "      <td>Tiger Global Management, Sequoia Capital China...</td>\n",
       "    </tr>\n",
       "    <tr>\n",
       "      <th>3</th>\n",
       "      <td>Stripe</td>\n",
       "      <td>$95B</td>\n",
       "      <td>2014-01-23</td>\n",
       "      <td>Fintech</td>\n",
       "      <td>San Francisco</td>\n",
       "      <td>United States</td>\n",
       "      <td>North America</td>\n",
       "      <td>2010</td>\n",
       "      <td>$2B</td>\n",
       "      <td>Khosla Ventures, LowercaseCapital, capitalG</td>\n",
       "    </tr>\n",
       "    <tr>\n",
       "      <th>4</th>\n",
       "      <td>Klarna</td>\n",
       "      <td>$46B</td>\n",
       "      <td>2011-12-12</td>\n",
       "      <td>Fintech</td>\n",
       "      <td>Stockholm</td>\n",
       "      <td>Sweden</td>\n",
       "      <td>Europe</td>\n",
       "      <td>2005</td>\n",
       "      <td>$4B</td>\n",
       "      <td>Institutional Venture Partners, Sequoia Capita...</td>\n",
       "    </tr>\n",
       "    <tr>\n",
       "      <th>...</th>\n",
       "      <td>...</td>\n",
       "      <td>...</td>\n",
       "      <td>...</td>\n",
       "      <td>...</td>\n",
       "      <td>...</td>\n",
       "      <td>...</td>\n",
       "      <td>...</td>\n",
       "      <td>...</td>\n",
       "      <td>...</td>\n",
       "      <td>...</td>\n",
       "    </tr>\n",
       "    <tr>\n",
       "      <th>1069</th>\n",
       "      <td>Zhaogang</td>\n",
       "      <td>$1B</td>\n",
       "      <td>2017-06-29</td>\n",
       "      <td>E-commerce &amp; direct-to-consumer</td>\n",
       "      <td>Shanghai</td>\n",
       "      <td>China</td>\n",
       "      <td>Asia</td>\n",
       "      <td>2012</td>\n",
       "      <td>$379M</td>\n",
       "      <td>K2 Ventures, Matrix Partners China, IDG Capital</td>\n",
       "    </tr>\n",
       "    <tr>\n",
       "      <th>1070</th>\n",
       "      <td>Zhuan Zhuan</td>\n",
       "      <td>$1B</td>\n",
       "      <td>2017-04-18</td>\n",
       "      <td>E-commerce &amp; direct-to-consumer</td>\n",
       "      <td>Beijing</td>\n",
       "      <td>China</td>\n",
       "      <td>Asia</td>\n",
       "      <td>2015</td>\n",
       "      <td>$990M</td>\n",
       "      <td>58.com, Tencent Holdings</td>\n",
       "    </tr>\n",
       "    <tr>\n",
       "      <th>1071</th>\n",
       "      <td>Zihaiguo</td>\n",
       "      <td>$1B</td>\n",
       "      <td>2021-05-06</td>\n",
       "      <td>Consumer &amp; retail</td>\n",
       "      <td>Chongqing</td>\n",
       "      <td>China</td>\n",
       "      <td>Asia</td>\n",
       "      <td>2018</td>\n",
       "      <td>$80M</td>\n",
       "      <td>Xingwang Investment Management, China Capital ...</td>\n",
       "    </tr>\n",
       "    <tr>\n",
       "      <th>1072</th>\n",
       "      <td>Zopa</td>\n",
       "      <td>$1B</td>\n",
       "      <td>2021-10-19</td>\n",
       "      <td>Fintech</td>\n",
       "      <td>London</td>\n",
       "      <td>United Kingdom</td>\n",
       "      <td>Europe</td>\n",
       "      <td>2005</td>\n",
       "      <td>$792M</td>\n",
       "      <td>IAG Capital Partners, Augmentum Fintech, North...</td>\n",
       "    </tr>\n",
       "    <tr>\n",
       "      <th>1073</th>\n",
       "      <td>Zwift</td>\n",
       "      <td>$1B</td>\n",
       "      <td>2020-09-16</td>\n",
       "      <td>E-commerce &amp; direct-to-consumer</td>\n",
       "      <td>Long Beach</td>\n",
       "      <td>United States</td>\n",
       "      <td>North America</td>\n",
       "      <td>2014</td>\n",
       "      <td>$620M</td>\n",
       "      <td>Novator Partners, True, Causeway Media Partners</td>\n",
       "    </tr>\n",
       "  </tbody>\n",
       "</table>\n",
       "<p>1074 rows × 10 columns</p>\n",
       "</div>"
      ],
      "text/plain": [
       "          company valuation date joined                         industry  \\\n",
       "0       Bytedance     $180B  2017-04-07          Artificial intelligence   \n",
       "1          SpaceX     $100B  2012-12-01                            Other   \n",
       "2           SHEIN     $100B  2018-07-03  E-commerce & direct-to-consumer   \n",
       "3          Stripe      $95B  2014-01-23                          Fintech   \n",
       "4          Klarna      $46B  2011-12-12                          Fintech   \n",
       "...           ...       ...         ...                              ...   \n",
       "1069     Zhaogang       $1B  2017-06-29  E-commerce & direct-to-consumer   \n",
       "1070  Zhuan Zhuan       $1B  2017-04-18  E-commerce & direct-to-consumer   \n",
       "1071     Zihaiguo       $1B  2021-05-06                Consumer & retail   \n",
       "1072         Zopa       $1B  2021-10-19                          Fintech   \n",
       "1073        Zwift       $1B  2020-09-16  E-commerce & direct-to-consumer   \n",
       "\n",
       "               city         country      continent  year founded funding  \\\n",
       "0           Beijing           China           Asia          2012     $8B   \n",
       "1         Hawthorne   United States  North America          2002     $7B   \n",
       "2          Shenzhen           China           Asia          2008     $2B   \n",
       "3     San Francisco   United States  North America          2010     $2B   \n",
       "4         Stockholm          Sweden         Europe          2005     $4B   \n",
       "...             ...             ...            ...           ...     ...   \n",
       "1069       Shanghai           China           Asia          2012   $379M   \n",
       "1070        Beijing           China           Asia          2015   $990M   \n",
       "1071      Chongqing           China           Asia          2018    $80M   \n",
       "1072         London  United Kingdom         Europe          2005   $792M   \n",
       "1073     Long Beach   United States  North America          2014   $620M   \n",
       "\n",
       "                                       select investors  \n",
       "0     Sequoia Capital China, SIG Asia Investments, S...  \n",
       "1     Founders Fund, Draper Fisher Jurvetson, Rothen...  \n",
       "2     Tiger Global Management, Sequoia Capital China...  \n",
       "3           Khosla Ventures, LowercaseCapital, capitalG  \n",
       "4     Institutional Venture Partners, Sequoia Capita...  \n",
       "...                                                 ...  \n",
       "1069    K2 Ventures, Matrix Partners China, IDG Capital  \n",
       "1070                           58.com, Tencent Holdings  \n",
       "1071  Xingwang Investment Management, China Capital ...  \n",
       "1072  IAG Capital Partners, Augmentum Fintech, North...  \n",
       "1073    Novator Partners, True, Causeway Media Partners  \n",
       "\n",
       "[1074 rows x 10 columns]"
      ]
     },
     "execution_count": 15,
     "metadata": {},
     "output_type": "execute_result"
    }
   ],
   "source": [
    "companies_upd"
   ]
  },
  {
   "cell_type": "markdown",
   "id": "5d18f369-74c2-45d1-a693-3d46bf77068b",
   "metadata": {
    "tags": []
   },
   "source": [
    "companies_upd['funding']\n"
   ]
  },
  {
   "cell_type": "code",
   "execution_count": 16,
   "id": "78c1127a",
   "metadata": {
    "tags": []
   },
   "outputs": [
    {
     "data": {
      "text/plain": [
       "0         $8B\n",
       "1         $7B\n",
       "2         $2B\n",
       "3         $2B\n",
       "4         $4B\n",
       "        ...  \n",
       "1069    $379M\n",
       "1070    $990M\n",
       "1071     $80M\n",
       "1072    $792M\n",
       "1073    $620M\n",
       "Name: funding, Length: 1062, dtype: object"
      ]
     },
     "execution_count": 16,
     "metadata": {},
     "output_type": "execute_result"
    }
   ],
   "source": [
    "companies_upd = companies_upd[companies_upd['funding'].ne('Unknown')]\n",
    "companies_upd['funding']"
   ]
  },
  {
   "cell_type": "markdown",
   "id": "680a4c3f-abb8-46c2-bfb3-8a79840c788f",
   "metadata": {
    "tags": []
   },
   "source": [
    "### delete all dollar  and M, B replace it with 000."
   ]
  },
  {
   "cell_type": "code",
   "execution_count": 17,
   "id": "c72d92b8",
   "metadata": {
    "tags": []
   },
   "outputs": [
    {
     "name": "stdout",
     "output_type": "stream",
     "text": [
      "  funding valuation\n",
      "0       8       180\n",
      "1       7       100\n",
      "2       2       100\n",
      "3       2        95\n",
      "4       4        46\n",
      "5     572        40\n",
      "6       2        40\n",
      "7       3        39\n",
      "8      14        38\n",
      "9       3        38\n"
     ]
    }
   ],
   "source": [
    "# companies_upd['funding'] = companies_upd['funding'].str.replace('$', '')\n",
    "# companies_upd['funding'] = companies_upd['funding'].str.replace('M', '')\n",
    "# companies_upd['funding'] = companies_upd['funding'].str.replace('B', '000')\n",
    "\n",
    "# companies_upd['valuation'] = companies_upd['valuation'].str.replace('$', '')\n",
    "# companies_upd['valuation'] = companies_upd['valuation'].str.replace('M', '')\n",
    "# companies_upd['valuation'] = companies_upd['valuation'].str.replace('B', '000')\n",
    "\n",
    "# companies_upd['funding']\n",
    "# Convert 'funding' and 'valuation' columns to string type before applying string methods\n",
    "# Ensure we're modifying the DataFrame directly; this is more about clarity than necessity in this specific case\n",
    "companies_upd = companies_upd.copy()\n",
    "\n",
    "# Convert 'funding' and 'valuation' columns to string\n",
    "companies_upd.loc[:, 'funding'] = companies_upd['funding'].astype(str)\n",
    "companies_upd.loc[:, 'valuation'] = companies_upd['valuation'].astype(str)\n",
    "\n",
    "# Replace '$', 'M', and 'B' with appropriate numeric representations\n",
    "companies_upd.loc[:, 'funding'] = companies_upd.loc[:, 'funding'].str.replace('$', '').str.replace('M', ' ').str.replace('B', ' ')\n",
    "companies_upd.loc[:, 'valuation'] = companies_upd.loc[:, 'valuation'].str.replace('$', '').str.replace('M', ' ').str.replace('B', ' ')\n",
    "\n",
    "# Convert back to numeric, handling any errors by converting them to NaN\n",
    "companies_upd.loc[:, 'funding'] = pd.to_numeric(companies_upd['funding'], errors='coerce')\n",
    "companies_upd.loc[:, 'valuation'] = pd.to_numeric(companies_upd['valuation'], errors='coerce')\n",
    "\n",
    "# Verify the changes\n",
    "print(companies_upd[['funding', 'valuation']].head(10))\n",
    "\n"
   ]
  },
  {
   "cell_type": "code",
   "execution_count": 18,
   "id": "300c9eaf",
   "metadata": {
    "tags": []
   },
   "outputs": [],
   "source": [
    "# Convert to numeric, setting errors='coerce' to turn problematic values into NaNs, then fill NaNs with 0\n",
    "companies_upd['funding'] = pd.to_numeric(companies_upd['funding'], errors='coerce').fillna(0).astype(int)\n",
    "companies_upd['valuation'] = pd.to_numeric(companies_upd['valuation'], errors='coerce').fillna(0).astype(int)\n"
   ]
  },
  {
   "cell_type": "markdown",
   "id": "20894f4c",
   "metadata": {},
   "source": [
    "### deal with \"Artificial intelligence\" and \"Artificial Intelligence\""
   ]
  },
  {
   "cell_type": "code",
   "execution_count": 19,
   "id": "d79233e2",
   "metadata": {
    "tags": []
   },
   "outputs": [],
   "source": [
    "#companies_upd['industry'] = companies_upd['industry'].str.replace('Artificial intelligence', 'Artificial Intelligence')\n",
    "#companies_upd['industry'] = companies_upd['industry'].str.replace('artificial intelligence', 'Artificial Intelligence', flags=re.IGNORECASE, regex=True)\n",
    "#companies_upd['industry'] = companies_upd['industry'].str.replace('artificial intelligence', 'Artificial Intelligence', flags=re.IGNORECASE, regex=True)\n",
    "import re\n",
    "\n",
    "companies_upd['industry'] = companies_upd['industry'].str.replace('artificial intelligence', 'Artificial Intelligence', flags=re.IGNORECASE, regex=True)\n",
    "\n"
   ]
  },
  {
   "cell_type": "markdown",
   "id": "9dcf648c",
   "metadata": {},
   "source": [
    "## STEP III: DEEP ANALYSIS OF DATA"
   ]
  },
  {
   "cell_type": "markdown",
   "id": "318b4411",
   "metadata": {},
   "source": [
    "### 1. How many companies were founded in different years? in order to spot a significant period."
   ]
  },
  {
   "cell_type": "code",
   "execution_count": 20,
   "id": "a50112c8",
   "metadata": {
    "tags": []
   },
   "outputs": [
    {
     "name": "stderr",
     "output_type": "stream",
     "text": [
      "C:\\Users\\Admin\\OneDrive - Ariel University\\new\\Lib\\site-packages\\seaborn\\axisgrid.py:118: UserWarning: The figure layout has changed to tight\n",
      "  self._figure.tight_layout(*args, **kwargs)\n"
     ]
    },
    {
     "data": {
      "text/plain": [
       "<Figure size 1000x600 with 0 Axes>"
      ]
     },
     "metadata": {},
     "output_type": "display_data"
    },
    {
     "data": {
      "image/png": "[encoded data removed]",
      "text/plain": [
       "<Figure size 996x600 with 1 Axes>"
      ]
     },
     "metadata": {},
     "output_type": "display_data"
    }
   ],
   "source": [
    "plt.figure(figsize=(10, 6))\n",
    "sns.displot(companies_upd, x='year founded', height=6, aspect=1.66) \n",
    "plt.title('founded companies per year')\n",
    "plt.xlabel('Year Founded')\n",
    "plt.ylabel('Number of Companies')\n",
    "plt.show()"
   ]
  },
  {
   "cell_type": "markdown",
   "id": "909de6e5",
   "metadata": {},
   "source": [
    "we can see from the graph that there was a bit founded companies around 1920, and start to established more companies around 2015\n",
    ", lets take a look after 2007:"
   ]
  },
  {
   "cell_type": "code",
   "execution_count": 21,
   "id": "500783ac",
   "metadata": {
    "tags": []
   },
   "outputs": [
    {
     "name": "stderr",
     "output_type": "stream",
     "text": [
      "C:\\Users\\Admin\\OneDrive - Ariel University\\new\\Lib\\site-packages\\seaborn\\axisgrid.py:118: UserWarning: The figure layout has changed to tight\n",
      "  self._figure.tight_layout(*args, **kwargs)\n"
     ]
    },
    {
     "data": {
      "text/plain": [
       "<seaborn.axisgrid.FacetGrid at 0x2841f92ce50>"
      ]
     },
     "execution_count": 21,
     "metadata": {},
     "output_type": "execute_result"
    },
    {
     "data": {
      "image/png": "[encoded data removed]",
      "text/plain": [
       "<Figure size 500x500 with 1 Axes>"
      ]
     },
     "metadata": {},
     "output_type": "display_data"
    }
   ],
   "source": [
    "companies_after_2007 = companies_upd[companies_upd['year founded'] >= 2007]\n",
    "sns.displot(companies_after_2007, x='year founded', binwidth=1)"
   ]
  },
  {
   "cell_type": "markdown",
   "id": "ae9f6a1f",
   "metadata": {},
   "source": [
    "### 2. Which industries have the most popularity among companies in the new era? Which industry have the best growing company counts in the present? how mature the industry? is it popular becuese its just a new thing or its based on a lot of studies and proven success of existing company? is its popularity fading or growing find by looking to how fast it grow?"
   ]
  },
  {
   "cell_type": "code",
   "execution_count": 22,
   "id": "2b4ef2ac",
   "metadata": {
    "tags": []
   },
   "outputs": [
    {
     "data": {
      "text/html": [
       "<div>\n",
       "<style scoped>\n",
       "    .dataframe tbody tr th:only-of-type {\n",
       "        vertical-align: middle;\n",
       "    }\n",
       "\n",
       "    .dataframe tbody tr th {\n",
       "        vertical-align: top;\n",
       "    }\n",
       "\n",
       "    .dataframe thead th {\n",
       "        text-align: right;\n",
       "    }\n",
       "</style>\n",
       "<table border=\"1\" class=\"dataframe\">\n",
       "  <thead>\n",
       "    <tr style=\"text-align: right;\">\n",
       "      <th></th>\n",
       "      <th>industry</th>\n",
       "      <th>Number of Companies</th>\n",
       "    </tr>\n",
       "  </thead>\n",
       "  <tbody>\n",
       "    <tr>\n",
       "      <th>0</th>\n",
       "      <td>Artificial Intelligence</td>\n",
       "      <td>84</td>\n",
       "    </tr>\n",
       "    <tr>\n",
       "      <th>1</th>\n",
       "      <td>Auto &amp; transportation</td>\n",
       "      <td>31</td>\n",
       "    </tr>\n",
       "    <tr>\n",
       "      <th>2</th>\n",
       "      <td>Consumer &amp; retail</td>\n",
       "      <td>24</td>\n",
       "    </tr>\n",
       "    <tr>\n",
       "      <th>3</th>\n",
       "      <td>Cybersecurity</td>\n",
       "      <td>50</td>\n",
       "    </tr>\n",
       "    <tr>\n",
       "      <th>4</th>\n",
       "      <td>Data management &amp; analytics</td>\n",
       "      <td>40</td>\n",
       "    </tr>\n",
       "    <tr>\n",
       "      <th>5</th>\n",
       "      <td>E-commerce &amp; direct-to-consumer</td>\n",
       "      <td>109</td>\n",
       "    </tr>\n",
       "    <tr>\n",
       "      <th>6</th>\n",
       "      <td>Edtech</td>\n",
       "      <td>28</td>\n",
       "    </tr>\n",
       "    <tr>\n",
       "      <th>7</th>\n",
       "      <td>Fintech</td>\n",
       "      <td>222</td>\n",
       "    </tr>\n",
       "    <tr>\n",
       "      <th>8</th>\n",
       "      <td>Hardware</td>\n",
       "      <td>34</td>\n",
       "    </tr>\n",
       "    <tr>\n",
       "      <th>9</th>\n",
       "      <td>Health</td>\n",
       "      <td>74</td>\n",
       "    </tr>\n",
       "    <tr>\n",
       "      <th>10</th>\n",
       "      <td>Internet software &amp; services</td>\n",
       "      <td>203</td>\n",
       "    </tr>\n",
       "    <tr>\n",
       "      <th>11</th>\n",
       "      <td>Mobile &amp; telecommunications</td>\n",
       "      <td>37</td>\n",
       "    </tr>\n",
       "    <tr>\n",
       "      <th>12</th>\n",
       "      <td>Other</td>\n",
       "      <td>56</td>\n",
       "    </tr>\n",
       "    <tr>\n",
       "      <th>13</th>\n",
       "      <td>Supply chain, logistics, &amp; delivery</td>\n",
       "      <td>56</td>\n",
       "    </tr>\n",
       "    <tr>\n",
       "      <th>14</th>\n",
       "      <td>Travel</td>\n",
       "      <td>14</td>\n",
       "    </tr>\n",
       "  </tbody>\n",
       "</table>\n",
       "</div>"
      ],
      "text/plain": [
       "                               industry  Number of Companies\n",
       "0               Artificial Intelligence                   84\n",
       "1                 Auto & transportation                   31\n",
       "2                     Consumer & retail                   24\n",
       "3                         Cybersecurity                   50\n",
       "4           Data management & analytics                   40\n",
       "5       E-commerce & direct-to-consumer                  109\n",
       "6                                Edtech                   28\n",
       "7                               Fintech                  222\n",
       "8                              Hardware                   34\n",
       "9                                Health                   74\n",
       "10         Internet software & services                  203\n",
       "11          Mobile & telecommunications                   37\n",
       "12                                Other                   56\n",
       "13  Supply chain, logistics, & delivery                   56\n",
       "14                               Travel                   14"
      ]
     },
     "execution_count": 22,
     "metadata": {},
     "output_type": "execute_result"
    }
   ],
   "source": [
    "industry_counts = companies_upd.groupby('industry').size().reset_index(name='Number of Companies')\n",
    "industry_counts"
   ]
  },
  {
   "cell_type": "code",
   "execution_count": 23,
   "id": "b242a19e",
   "metadata": {
    "tags": []
   },
   "outputs": [
    {
     "data": {
      "text/plain": [
       "<Axes: title={'center': 'Number of companies per industry'}, xlabel='Number of Companies', ylabel='industry'>"
      ]
     },
     "execution_count": 23,
     "metadata": {},
     "output_type": "execute_result"
    },
    {
     "data": {
      "image/png": "[encoded data removed]",
      "text/plain": [
       "<Figure size 1000x800 with 1 Axes>"
      ]
     },
     "metadata": {},
     "output_type": "display_data"
    }
   ],
   "source": [
    "plt.figure(figsize=(10, 8))\n",
    "plt.title('Number of companies per industry')\n",
    "sns.barplot(x='Number of Companies', y='industry', data=industry_counts)"
   ]
  },
  {
   "cell_type": "code",
   "execution_count": 24,
   "id": "78113476",
   "metadata": {
    "tags": []
   },
   "outputs": [
    {
     "data": {
      "text/html": [
       "<div>\n",
       "<style scoped>\n",
       "    .dataframe tbody tr th:only-of-type {\n",
       "        vertical-align: middle;\n",
       "    }\n",
       "\n",
       "    .dataframe tbody tr th {\n",
       "        vertical-align: top;\n",
       "    }\n",
       "\n",
       "    .dataframe thead th {\n",
       "        text-align: right;\n",
       "    }\n",
       "</style>\n",
       "<table border=\"1\" class=\"dataframe\">\n",
       "  <thead>\n",
       "    <tr style=\"text-align: right;\">\n",
       "      <th></th>\n",
       "      <th>industry</th>\n",
       "      <th>Number of Companies</th>\n",
       "    </tr>\n",
       "  </thead>\n",
       "  <tbody>\n",
       "    <tr>\n",
       "      <th>0</th>\n",
       "      <td>Artificial Intelligence</td>\n",
       "      <td>81</td>\n",
       "    </tr>\n",
       "    <tr>\n",
       "      <th>1</th>\n",
       "      <td>Auto &amp; transportation</td>\n",
       "      <td>30</td>\n",
       "    </tr>\n",
       "    <tr>\n",
       "      <th>2</th>\n",
       "      <td>Consumer &amp; retail</td>\n",
       "      <td>20</td>\n",
       "    </tr>\n",
       "    <tr>\n",
       "      <th>3</th>\n",
       "      <td>Cybersecurity</td>\n",
       "      <td>45</td>\n",
       "    </tr>\n",
       "    <tr>\n",
       "      <th>4</th>\n",
       "      <td>Data management &amp; analytics</td>\n",
       "      <td>35</td>\n",
       "    </tr>\n",
       "    <tr>\n",
       "      <th>5</th>\n",
       "      <td>E-commerce &amp; direct-to-consumer</td>\n",
       "      <td>104</td>\n",
       "    </tr>\n",
       "    <tr>\n",
       "      <th>6</th>\n",
       "      <td>Edtech</td>\n",
       "      <td>24</td>\n",
       "    </tr>\n",
       "    <tr>\n",
       "      <th>7</th>\n",
       "      <td>Fintech</td>\n",
       "      <td>206</td>\n",
       "    </tr>\n",
       "    <tr>\n",
       "      <th>8</th>\n",
       "      <td>Hardware</td>\n",
       "      <td>30</td>\n",
       "    </tr>\n",
       "    <tr>\n",
       "      <th>9</th>\n",
       "      <td>Health</td>\n",
       "      <td>66</td>\n",
       "    </tr>\n",
       "    <tr>\n",
       "      <th>10</th>\n",
       "      <td>Internet software &amp; services</td>\n",
       "      <td>185</td>\n",
       "    </tr>\n",
       "    <tr>\n",
       "      <th>11</th>\n",
       "      <td>Mobile &amp; telecommunications</td>\n",
       "      <td>33</td>\n",
       "    </tr>\n",
       "    <tr>\n",
       "      <th>12</th>\n",
       "      <td>Other</td>\n",
       "      <td>47</td>\n",
       "    </tr>\n",
       "    <tr>\n",
       "      <th>13</th>\n",
       "      <td>Supply chain, logistics, &amp; delivery</td>\n",
       "      <td>52</td>\n",
       "    </tr>\n",
       "    <tr>\n",
       "      <th>14</th>\n",
       "      <td>Travel</td>\n",
       "      <td>13</td>\n",
       "    </tr>\n",
       "  </tbody>\n",
       "</table>\n",
       "</div>"
      ],
      "text/plain": [
       "                               industry  Number of Companies\n",
       "0               Artificial Intelligence                   81\n",
       "1                 Auto & transportation                   30\n",
       "2                     Consumer & retail                   20\n",
       "3                         Cybersecurity                   45\n",
       "4           Data management & analytics                   35\n",
       "5       E-commerce & direct-to-consumer                  104\n",
       "6                                Edtech                   24\n",
       "7                               Fintech                  206\n",
       "8                              Hardware                   30\n",
       "9                                Health                   66\n",
       "10         Internet software & services                  185\n",
       "11          Mobile & telecommunications                   33\n",
       "12                                Other                   47\n",
       "13  Supply chain, logistics, & delivery                   52\n",
       "14                               Travel                   13"
      ]
     },
     "execution_count": 24,
     "metadata": {},
     "output_type": "execute_result"
    }
   ],
   "source": [
    "industry_counts_after_2007 = companies_after_2007.groupby('industry').size().reset_index(name='Number of Companies')\n",
    "industry_counts_after_2007"
   ]
  },
  {
   "cell_type": "code",
   "execution_count": 25,
   "id": "82bcafb9",
   "metadata": {
    "tags": []
   },
   "outputs": [
    {
     "data": {
      "text/plain": [
       "<Axes: title={'center': 'Number of companies per industry'}, xlabel='Number of Companies', ylabel='industry'>"
      ]
     },
     "execution_count": 25,
     "metadata": {},
     "output_type": "execute_result"
    },
    {
     "data": {
      "image/png": "[encoded data removed]",
      "text/plain": [
       "<Figure size 1000x800 with 1 Axes>"
      ]
     },
     "metadata": {},
     "output_type": "display_data"
    }
   ],
   "source": [
    "plt.figure(figsize=(10, 8))\n",
    "plt.title('Number of companies per industry')\n",
    "sns.barplot(x='Number of Companies', y='industry', data=industry_counts)"
   ]
  },
  {
   "cell_type": "markdown",
   "id": "d0fdb580",
   "metadata": {},
   "source": [
    "- not much changed, lets see the growth of each industry:"
   ]
  },
  {
   "cell_type": "code",
   "execution_count": 26,
   "id": "580a838a",
   "metadata": {
    "tags": []
   },
   "outputs": [
    {
     "data": {
      "text/html": [
       "<div>\n",
       "<style scoped>\n",
       "    .dataframe tbody tr th:only-of-type {\n",
       "        vertical-align: middle;\n",
       "    }\n",
       "\n",
       "    .dataframe tbody tr th {\n",
       "        vertical-align: top;\n",
       "    }\n",
       "\n",
       "    .dataframe thead th {\n",
       "        text-align: right;\n",
       "    }\n",
       "</style>\n",
       "<table border=\"1\" class=\"dataframe\">\n",
       "  <thead>\n",
       "    <tr style=\"text-align: right;\">\n",
       "      <th></th>\n",
       "      <th>year founded</th>\n",
       "      <th>industry</th>\n",
       "      <th>Number of Companies</th>\n",
       "    </tr>\n",
       "  </thead>\n",
       "  <tbody>\n",
       "    <tr>\n",
       "      <th>0</th>\n",
       "      <td>2007</td>\n",
       "      <td>Artificial Intelligence</td>\n",
       "      <td>1</td>\n",
       "    </tr>\n",
       "    <tr>\n",
       "      <th>1</th>\n",
       "      <td>2007</td>\n",
       "      <td>E-commerce &amp; direct-to-consumer</td>\n",
       "      <td>1</td>\n",
       "    </tr>\n",
       "    <tr>\n",
       "      <th>2</th>\n",
       "      <td>2007</td>\n",
       "      <td>Health</td>\n",
       "      <td>2</td>\n",
       "    </tr>\n",
       "    <tr>\n",
       "      <th>3</th>\n",
       "      <td>2007</td>\n",
       "      <td>Internet software &amp; services</td>\n",
       "      <td>7</td>\n",
       "    </tr>\n",
       "    <tr>\n",
       "      <th>4</th>\n",
       "      <td>2008</td>\n",
       "      <td>Artificial Intelligence</td>\n",
       "      <td>1</td>\n",
       "    </tr>\n",
       "    <tr>\n",
       "      <th>...</th>\n",
       "      <td>...</td>\n",
       "      <td>...</td>\n",
       "      <td>...</td>\n",
       "    </tr>\n",
       "    <tr>\n",
       "      <th>65</th>\n",
       "      <td>2020</td>\n",
       "      <td>Health</td>\n",
       "      <td>4</td>\n",
       "    </tr>\n",
       "    <tr>\n",
       "      <th>66</th>\n",
       "      <td>2020</td>\n",
       "      <td>Internet software &amp; services</td>\n",
       "      <td>4</td>\n",
       "    </tr>\n",
       "    <tr>\n",
       "      <th>67</th>\n",
       "      <td>2021</td>\n",
       "      <td>E-commerce &amp; direct-to-consumer</td>\n",
       "      <td>3</td>\n",
       "    </tr>\n",
       "    <tr>\n",
       "      <th>68</th>\n",
       "      <td>2021</td>\n",
       "      <td>Fintech</td>\n",
       "      <td>3</td>\n",
       "    </tr>\n",
       "    <tr>\n",
       "      <th>69</th>\n",
       "      <td>2021</td>\n",
       "      <td>Internet software &amp; services</td>\n",
       "      <td>2</td>\n",
       "    </tr>\n",
       "  </tbody>\n",
       "</table>\n",
       "<p>70 rows × 3 columns</p>\n",
       "</div>"
      ],
      "text/plain": [
       "    year founded                         industry  Number of Companies\n",
       "0           2007          Artificial Intelligence                    1\n",
       "1           2007  E-commerce & direct-to-consumer                    1\n",
       "2           2007                           Health                    2\n",
       "3           2007     Internet software & services                    7\n",
       "4           2008          Artificial Intelligence                    1\n",
       "..           ...                              ...                  ...\n",
       "65          2020                           Health                    4\n",
       "66          2020     Internet software & services                    4\n",
       "67          2021  E-commerce & direct-to-consumer                    3\n",
       "68          2021                          Fintech                    3\n",
       "69          2021     Internet software & services                    2\n",
       "\n",
       "[70 rows x 3 columns]"
      ]
     },
     "execution_count": 26,
     "metadata": {},
     "output_type": "execute_result"
    }
   ],
   "source": [
    "industry_growth = companies_after_2007[companies_after_2007['industry'].isin(['Artificial Intelligence', 'Internet software & services', 'E-commerce & direct-to-consumer', 'Fintech', 'Health'])].groupby(['year founded', 'industry']).size().reset_index(name='Number of Companies')\n",
    "industry_growth"
   ]
  },
  {
   "cell_type": "code",
   "execution_count": 27,
   "id": "23cd9eac",
   "metadata": {
    "tags": []
   },
   "outputs": [
    {
     "data": {
      "text/plain": [
       "<Axes: xlabel='year founded', ylabel='Number of Companies'>"
      ]
     },
     "execution_count": 27,
     "metadata": {},
     "output_type": "execute_result"
    },
    {
     "data": {
      "image/png": "[encoded data removed]",
      "text/plain": [
       "<Figure size 1000x600 with 1 Axes>"
      ]
     },
     "metadata": {},
     "output_type": "display_data"
    }
   ],
   "source": [
    "plt.figure(figsize=(10, 6))\n",
    "sns.lineplot(x='year founded', y='Number of Companies', hue='industry', data=industry_growth, errorbar=None)\n"
   ]
  },
  {
   "cell_type": "markdown",
   "id": "60d723fd",
   "metadata": {},
   "source": [
    "- we can see that all top industry had similar life growing companies count and then stoped, could be due industry is matured enough,"
   ]
  },
  {
   "cell_type": "markdown",
   "id": "2d11bc06",
   "metadata": {},
   "source": [
    "### 3. How does the funding received by each industry relate to their valuations?"
   ]
  },
  {
   "cell_type": "code",
   "execution_count": 28,
   "id": "b384628f",
   "metadata": {
    "tags": []
   },
   "outputs": [
    {
     "data": {
      "image/png": "[encoded data removed]",
      "text/plain": [
       "<Figure size 1000x600 with 1 Axes>"
      ]
     },
     "metadata": {},
     "output_type": "display_data"
    }
   ],
   "source": [
    "plt.figure(figsize=(10, 6))\n",
    "sns.lineplot(x='funding', y='valuation', data=companies_upd[companies_upd['valuation'] >= 12000], hue='industry')\n",
    "plt.xlabel('Funding (in Millions)')\n",
    "plt.ylabel('Company Valuation (in Millions)')\n",
    "plt.title('Relationship between company funding and valuations')\n",
    "plt.show()"
   ]
  },
  {
   "cell_type": "markdown",
   "id": "508ac5a1",
   "metadata": {},
   "source": [
    "appearntly the AI industry is the best market to invest in because as showen in the graph you could see that (valuatuin/funding) relation is growing dramatically. which mean less money to invest for more money to get in return."
   ]
  },
  {
   "cell_type": "markdown",
   "id": "016c1192",
   "metadata": {},
   "source": [
    "### 4. Where the most common investors invest? Which prefered country for those investors? Which prefered to industry? it indicate according to those expertise in investing so the assumption here is that they know what they doing so will what they prefer to invest in?"
   ]
  },
  {
   "cell_type": "code",
   "execution_count": 38,
   "id": "b31bf573",
   "metadata": {
    "tags": []
   },
   "outputs": [
    {
     "data": {
      "text/html": [
       "<div>\n",
       "<style scoped>\n",
       "    .dataframe tbody tr th:only-of-type {\n",
       "        vertical-align: middle;\n",
       "    }\n",
       "\n",
       "    .dataframe tbody tr th {\n",
       "        vertical-align: top;\n",
       "    }\n",
       "\n",
       "    .dataframe thead th {\n",
       "        text-align: right;\n",
       "    }\n",
       "</style>\n",
       "<table border=\"1\" class=\"dataframe\">\n",
       "  <thead>\n",
       "    <tr style=\"text-align: right;\">\n",
       "      <th></th>\n",
       "      <th>select investors</th>\n",
       "      <th>company</th>\n",
       "    </tr>\n",
       "  </thead>\n",
       "  <tbody>\n",
       "    <tr>\n",
       "      <th>0</th>\n",
       "      <td>General Atlantic</td>\n",
       "      <td>[NuCom Group, Gymshark]</td>\n",
       "    </tr>\n",
       "    <tr>\n",
       "      <th>1</th>\n",
       "      <td>Global Founders Capital, Shea Ventures, Greycroft</td>\n",
       "      <td>[Pacaso, Feedzai]</td>\n",
       "    </tr>\n",
       "    <tr>\n",
       "      <th>2</th>\n",
       "      <td>Greylock Partners, Google Ventures, BlackRock</td>\n",
       "      <td>[Gelato, Snorkel AI]</td>\n",
       "    </tr>\n",
       "    <tr>\n",
       "      <th>3</th>\n",
       "      <td>Insight Partners, Sequoia Capital, Index Ventures</td>\n",
       "      <td>[Wiz, Unite Us]</td>\n",
       "    </tr>\n",
       "    <tr>\n",
       "      <th>4</th>\n",
       "      <td>Pelion Venture Partners, Foundation Capital, T...</td>\n",
       "      <td>[Venafi, Guideline]</td>\n",
       "    </tr>\n",
       "    <tr>\n",
       "      <th>5</th>\n",
       "      <td>Qualcomm Ventures, Accel, Canaan Partners</td>\n",
       "      <td>[MindTickle, UpGrad]</td>\n",
       "    </tr>\n",
       "    <tr>\n",
       "      <th>6</th>\n",
       "      <td>Sequoia Capital</td>\n",
       "      <td>[MUSINSA, Retool]</td>\n",
       "    </tr>\n",
       "    <tr>\n",
       "      <th>7</th>\n",
       "      <td>Sequoia Capital China, Qiming Venture Partners...</td>\n",
       "      <td>[Miaoshou Doctor, Luoji Siwei]</td>\n",
       "    </tr>\n",
       "    <tr>\n",
       "      <th>8</th>\n",
       "      <td>Shunwei Capital Partners, China Media Group, G...</td>\n",
       "      <td>[Cgtz, Star Charge]</td>\n",
       "    </tr>\n",
       "    <tr>\n",
       "      <th>9</th>\n",
       "      <td>SoftBank Group</td>\n",
       "      <td>[Cambridge Mobile Telematics, Globality]</td>\n",
       "    </tr>\n",
       "    <tr>\n",
       "      <th>10</th>\n",
       "      <td>Speedinvest, Valar Ventures, Uniqa Ventures</td>\n",
       "      <td>[BitPanda, Savage X Fenty]</td>\n",
       "    </tr>\n",
       "    <tr>\n",
       "      <th>11</th>\n",
       "      <td>Tiger Global Management, Sequoia Capital India...</td>\n",
       "      <td>[Groww, CoinSwitch Kuber]</td>\n",
       "    </tr>\n",
       "    <tr>\n",
       "      <th>12</th>\n",
       "      <td>Two Sigma Ventures, Flint Capital, Commerce Ve...</td>\n",
       "      <td>[Socure, Coalition]</td>\n",
       "    </tr>\n",
       "    <tr>\n",
       "      <th>13</th>\n",
       "      <td>Undisclosed</td>\n",
       "      <td>[Bunq, The Brandtech Group]</td>\n",
       "    </tr>\n",
       "  </tbody>\n",
       "</table>\n",
       "</div>"
      ],
      "text/plain": [
       "                                     select investors  \\\n",
       "0                                    General Atlantic   \n",
       "1   Global Founders Capital, Shea Ventures, Greycroft   \n",
       "2       Greylock Partners, Google Ventures, BlackRock   \n",
       "3   Insight Partners, Sequoia Capital, Index Ventures   \n",
       "4   Pelion Venture Partners, Foundation Capital, T...   \n",
       "5           Qualcomm Ventures, Accel, Canaan Partners   \n",
       "6                                     Sequoia Capital   \n",
       "7   Sequoia Capital China, Qiming Venture Partners...   \n",
       "8   Shunwei Capital Partners, China Media Group, G...   \n",
       "9                                      SoftBank Group   \n",
       "10        Speedinvest, Valar Ventures, Uniqa Ventures   \n",
       "11  Tiger Global Management, Sequoia Capital India...   \n",
       "12  Two Sigma Ventures, Flint Capital, Commerce Ve...   \n",
       "13                                        Undisclosed   \n",
       "\n",
       "                                     company  \n",
       "0                    [NuCom Group, Gymshark]  \n",
       "1                          [Pacaso, Feedzai]  \n",
       "2                       [Gelato, Snorkel AI]  \n",
       "3                            [Wiz, Unite Us]  \n",
       "4                        [Venafi, Guideline]  \n",
       "5                       [MindTickle, UpGrad]  \n",
       "6                          [MUSINSA, Retool]  \n",
       "7             [Miaoshou Doctor, Luoji Siwei]  \n",
       "8                        [Cgtz, Star Charge]  \n",
       "9   [Cambridge Mobile Telematics, Globality]  \n",
       "10                [BitPanda, Savage X Fenty]  \n",
       "11                 [Groww, CoinSwitch Kuber]  \n",
       "12                       [Socure, Coalition]  \n",
       "13               [Bunq, The Brandtech Group]  "
      ]
     },
     "execution_count": 38,
     "metadata": {},
     "output_type": "execute_result"
    }
   ],
   "source": [
    "investor_companies = companies_upd.groupby('select investors')['company'].apply(list).reset_index()\n",
    "\n",
    "common_investors = investor_companies[investor_companies['company'].str.len() > 1]\n",
    "\n",
    "common_investors = common_investors.reset_index(drop=True)\n",
    "\n",
    "common_investors"
   ]
  },
  {
   "cell_type": "code",
   "execution_count": null,
   "id": "040fa71d",
   "metadata": {
    "tags": []
   },
   "outputs": [],
   "source": [
    "prefered_country = companies_upd.groupby('country')['select investors'].size().reset_index(name='Number of Investors')\n",
    "prefered_country"
   ]
  },
  {
   "cell_type": "code",
   "execution_count": null,
   "id": "5fb94cbf",
   "metadata": {
    "tags": []
   },
   "outputs": [],
   "source": [
    "plt.figure(figsize=(10, 8))\n",
    "plt.title('Number of Investors per Country')\n",
    "sns.barplot(x='Number of Investors', y='country', data=prefered_country)"
   ]
  },
  {
   "cell_type": "code",
   "execution_count": null,
   "id": "82add5e4",
   "metadata": {
    "tags": []
   },
   "outputs": [],
   "source": [
    "prefered_industry = companies_upd.groupby('industry')['select investors'].size().reset_index(name='Number of Investors')\n",
    "prefered_industry"
   ]
  },
  {
   "cell_type": "code",
   "execution_count": null,
   "id": "aee000f9",
   "metadata": {
    "tags": []
   },
   "outputs": [],
   "source": [
    "plt.figure(figsize=(10, 8))\n",
    "plt.title('Number of Investors per industry')\n",
    "sns.barplot(x='Number of Investors', y='industry', data=prefered_industry)"
   ]
  },
  {
   "cell_type": "markdown",
   "id": "eca6bb69",
   "metadata": {},
   "source": [
    "### Conclutions about prefered charactaristic in company investors prefer to invest in:\n",
    "- prefered country we can see its US, china and india.\n",
    "- prefered industry is fintech, Internet software & services and Artificial Intelligence, As showen the most prefered industries are in high-tech."
   ]
  },
  {
   "cell_type": "markdown",
   "id": "6cc07288",
   "metadata": {},
   "source": [
    "### 5. Which industries have higher company valuations? Find where the best company with valuation  to invest in."
   ]
  },
  {
   "cell_type": "code",
   "execution_count": 31,
   "id": "08a2644f",
   "metadata": {
    "tags": []
   },
   "outputs": [
    {
     "data": {
      "image/png": "[encoded data removed]",
      "text/plain": [
       "<Figure size 1000x800 with 1 Axes>"
      ]
     },
     "metadata": {},
     "output_type": "display_data"
    }
   ],
   "source": [
    "# plt.figure(figsize=(10, 8))\n",
    "# sns.barplot(x='valuation', y='industry', data=companies_upd, ci=None)\n",
    "# plt.ylabel('Industry')\n",
    "# plt.xlabel('Valuation')\n",
    "# plt.title('Valuations of companies across different industries')\n",
    "# plt.show()\n",
    "\n",
    "plt.figure(figsize=(10, 8))\n",
    "sns.barplot(x='valuation', y='industry', data=companies_upd, errorbar=None)\n",
    "plt.ylabel('Industry')\n",
    "plt.xlabel('Valuation')\n",
    "plt.title('Valuations of companies across different industries')\n",
    "plt.show()\n"
   ]
  },
  {
   "cell_type": "markdown",
   "id": "417485d8",
   "metadata": {},
   "source": [
    "the most have highest valuation are high-tech industries like AI, but also \"Consumer & retail\" are included regardless there are not in high-tech industry."
   ]
  },
  {
   "cell_type": "markdown",
   "id": "2f4d468b",
   "metadata": {},
   "source": [
    "### 6. What is the geographical distribution of companies across different continents and countries? find the most place which have the most concentration of companies count. look where is the most countries compatitive?"
   ]
  },
  {
   "cell_type": "markdown",
   "id": "224db9f4",
   "metadata": {},
   "source": [
    "- Companies count per country:"
   ]
  },
  {
   "cell_type": "code",
   "execution_count": null,
   "id": "8a7132dd",
   "metadata": {
    "tags": []
   },
   "outputs": [],
   "source": [
    "company_per_country_count = companies_upd.groupby(['country'])['company'].count().reset_index()\n",
    "company_per_country_count"
   ]
  },
  {
   "cell_type": "code",
   "execution_count": null,
   "id": "867aa5ae",
   "metadata": {
    "tags": []
   },
   "outputs": [],
   "source": [
    "plt.figure(figsize=(10, 8))\n",
    "sns.barplot(x='company', y='country', data=company_per_country_count)\n",
    "plt.title('Total companies per country')\n",
    "plt.xlabel('Number of Companies Per Country')"
   ]
  },
  {
   "cell_type": "markdown",
   "id": "15fde8ca",
   "metadata": {},
   "source": [
    "- Companies count per continents:"
   ]
  },
  {
   "cell_type": "code",
   "execution_count": null,
   "id": "8333e0c1",
   "metadata": {
    "tags": []
   },
   "outputs": [],
   "source": [
    "company_per_continent_count = companies_upd.groupby(['continent'])['company'].count().reset_index()\n",
    "company_per_continent_count"
   ]
  },
  {
   "cell_type": "code",
   "execution_count": null,
   "id": "79ff66a0",
   "metadata": {
    "tags": []
   },
   "outputs": [],
   "source": [
    "plt.figure(figsize=(10, 8))\n",
    "sns.barplot(x='continent', y='company', data=company_per_continent_count)\n",
    "plt.title('Total companies per continent')\n",
    "plt.ylabel('Number of Companies Per Continent')"
   ]
  },
  {
   "cell_type": "markdown",
   "id": "fdf881c4",
   "metadata": {},
   "source": [
    "According to the graphs we se that US and china has the most compatitive market place which may indicate to the company to the best, and it might also mean the most risky places to invest in."
   ]
  },
  {
   "cell_type": "markdown",
   "id": "a7c9746a",
   "metadata": {},
   "source": [
    "### 7.  What are top industries in each region?"
   ]
  },
  {
   "cell_type": "code",
   "execution_count": null,
   "id": "843da6dc",
   "metadata": {
    "tags": []
   },
   "outputs": [],
   "source": [
    "industries_by_regions = companies_after_2007.groupby(['continent', 'industry']).size()\n",
    "industries_by_regions"
   ]
  },
  {
   "cell_type": "code",
   "execution_count": null,
   "id": "2572f705",
   "metadata": {
    "tags": []
   },
   "outputs": [],
   "source": [
    "for continent in ['Africa', 'Asia', 'Europe', 'North America', 'Oceania', 'South America']:\n",
    "    temp = companies_after_2007[companies_after_2007['continent'] == continent].groupby(['industry']).size().reset_index(name='Industry Count').head()\n",
    "    display(temp)\n",
    "    plt.pie(temp['Industry Count'], labels = temp['industry'])\n",
    "    plt.xlabel('Top 5 Industry: {}'.format(continent), size=13)\n",
    "    plt.show()\n"
   ]
  },
  {
   "cell_type": "markdown",
   "id": "717f3e2c",
   "metadata": {},
   "source": [
    "##### Ever region has other industry that famuse in its region:\n",
    "- Africa have just one unicorn company which is in high-tech industry.\n",
    "- we can see that EU and america are high-tech dominate and AI appear in 3/5 of continent for top 5\n",
    "- Asia top 2 are AI and transportation"
   ]
  },
  {
   "cell_type": "markdown",
   "id": "c58bb532",
   "metadata": {},
   "source": [
    "## Step 5. TEST OF HYPOTHESES"
   ]
  },
  {
   "cell_type": "markdown",
   "id": "0dff1cc6",
   "metadata": {},
   "source": [
    "#### Is there a significant difference in the average valuation between Artificial Intelligence and health companies?"
   ]
  },
  {
   "cell_type": "code",
   "execution_count": null,
   "id": "ab49979e",
   "metadata": {
    "tags": []
   },
   "outputs": [],
   "source": [
    "companies_upd[companies_upd['industry'].isin(['Artificial  Intelligence', 'Health'])].groupby('industry')['valuation'].describe()"
   ]
  },
  {
   "cell_type": "code",
   "execution_count": null,
   "id": "3b4130ab",
   "metadata": {
    "tags": []
   },
   "outputs": [],
   "source": [
    "companies_upd[companies_upd['industry'].isin(['Artificial Intelligence', 'Health'])].groupby('industry')['valuation'].mean().reset_index()"
   ]
  },
  {
   "cell_type": "code",
   "execution_count": null,
   "id": "24864cf4",
   "metadata": {
    "tags": []
   },
   "outputs": [],
   "source": [
    "ai_slice = companies_upd[companies_upd['industry'] == 'Artificial Intelligence']\n",
    "health_slice = companies_upd[companies_upd['industry'] == 'Health']\n",
    "\n",
    "sample_1 = ai_slice['valuation'].dropna()\n",
    "sample_2 = health_slice['valuation'].dropna()"
   ]
  },
  {
   "cell_type": "code",
   "execution_count": null,
   "id": "877b35f8",
   "metadata": {
    "tags": []
   },
   "outputs": [],
   "source": [
    "sample_1.hist(bins=20)"
   ]
  },
  {
   "cell_type": "code",
   "execution_count": null,
   "id": "036cd1c5",
   "metadata": {
    "tags": []
   },
   "outputs": [],
   "source": [
    "scipy.stats.shapiro(sample_1)"
   ]
  },
  {
   "cell_type": "code",
   "execution_count": null,
   "id": "493caedb",
   "metadata": {
    "tags": []
   },
   "outputs": [],
   "source": [
    "sample_2.hist(bins=20)"
   ]
  },
  {
   "cell_type": "code",
   "execution_count": null,
   "id": "7afe3a2b",
   "metadata": {
    "tags": []
   },
   "outputs": [],
   "source": [
    "scipy.stats.shapiro(sample_2)"
   ]
  },
  {
   "cell_type": "code",
   "execution_count": null,
   "id": "30ebe5c1",
   "metadata": {
    "tags": []
   },
   "outputs": [],
   "source": [
    "scipy.stats.levene(sample_1, sample_2)"
   ]
  },
  {
   "cell_type": "code",
   "execution_count": null,
   "id": "e34dc309",
   "metadata": {
    "tags": []
   },
   "outputs": [],
   "source": [
    "alpha = 0.5\n",
    "results = scipy.stats.ttest_ind(\n",
    "        sample_1, \n",
    "        sample_2, equal_var = False)\n",
    "\n",
    "print('p-value: ', results.pvalue)\n",
    "\n",
    "if (results.pvalue < alpha):\n",
    "    print(\"We reject the null hypothesis. There is a significant difference in the average valuation between AI and health companies.\")\n",
    "else:\n",
    "    print(\"We fail to reject the null hypothesis. There is no significant difference in the average valuation between AI and health companies.\")"
   ]
  },
  {
   "cell_type": "markdown",
   "id": "903e4288-2bb2-4f8e-94e8-267f3a15b142",
   "metadata": {
    "tags": []
   },
   "source": [
    "## Step VII. GENERAL CONCLUSION"
   ]
  },
  {
   "cell_type": "markdown",
   "id": "a24ee5eb-8318-4c16-94e3-e73ca2bbebe3",
   "metadata": {
    "tags": []
   },
   "source": [
    "During my analysis of the data I found out that there are three crutial parameters to determine whether a company succeeds or not:\n",
    "\n",
    "- The geographical distribution of companies varies significantly across countries and continents, like china and america contains most of companies.The number of companies in thede countries can provide some insight of success founded companies which attract investors. this also might increased competition, which can make it more challenging for individual companies to succeed.\n",
    "- Industries AI, consumer & retail, and fintech are the leading industry from the average valualation company prespective, that may suggest that companies within these industries are attracting significant investment and interest from investors. This could be an indicator of perceived potential for growth and profitability within those industries.\n",
    "- common investors with highest company valuation: Two Sigma Ventures, Flint Capital, Commerce Ventures and Insight Partners, Sequoia Capital, Index Venture. Can indicate potential for growth and profitability within those companies that been invested by those common investors.\n",
    "- Artificial Intelligence VS Health are differ in average valulation prespective."
   ]
  }
 ],
 "metadata": {
  "kernelspec": {
   "display_name": "Python 3 (ipykernel)",
   "language": "python",
   "name": "python3"
  },
  "language_info": {
   "codemirror_mode": {
    "name": "ipython",
    "version": 3
   },
   "file_extension": ".py",
   "mimetype": "text/x-python",
   "name": "python",
   "nbconvert_exporter": "python",
   "pygments_lexer": "ipython3",
   "version": "3.11.5"
  }
 },
 "nbformat": 4,
 "nbformat_minor": 5
}
